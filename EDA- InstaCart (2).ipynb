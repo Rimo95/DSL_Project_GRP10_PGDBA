{
 "cells": [
  {
   "cell_type": "markdown",
   "metadata": {
    "_uuid": "50cd5933ae57c98191c6036730c15e5d4099aea5"
   },
   "source": [
    "# Instacart Exploratory Data Analysis\n",
    "\n",
    "\n",
    "\n",
    "## Table of Contents\n",
    "- [Average Order Amount](#AOA)\n",
    "- [Most Popular Products](#MPP)\n",
    "- [Reordered Products](#ROP)\n",
    "- [Ordering Behavior](#OB)\n",
    "    *  [Time of Day](#ToD)\n",
    "    *  [Day of Week](#DoW)\n",
    "    *  [Rate of Reorder](#RoR)\n",
    "- [Products, Departments, & Aisles Oh My!](#PDA)\n",
    "- [Departments with The Most Products](#DMP)\n",
    "- [Most Products Per Aisle](#MPPA)\n",
    "- [Aisle's with The Most Products (Top 10)](#AMP)\n",
    "- [Best Selling Department](#BSD)\n",
    "- [Best Selling Aisles in Best Selling Department](#BSABSD)\n",
    "- [Best Selling Aisles Overall](#BSAO)"
   ]
  },
  {
   "cell_type": "code",
   "execution_count": 1,
   "metadata": {
    "_cell_guid": "b1076dfc-b9ad-4769-8c92-a6c4dae69d19",
    "_uuid": "8f2839f25d086af736a60e9eeb907d3b93b6e0e5"
   },
   "outputs": [],
   "source": [
    "import pandas as pd\n",
    "import matplotlib.pyplot as plt\n",
    "import seaborn as sns\n",
    "color = sns.color_palette()\n",
    "import numpy as np\n",
    "from scipy.stats import norm\n",
    "from sklearn.preprocessing import StandardScaler\n",
    "from scipy import stats\n",
    "import warnings\n",
    "warnings.filterwarnings('ignore')\n",
    "pd.options.mode.chained_assignment = None\n",
    "%matplotlib inline"
   ]
  },
  {
   "cell_type": "code",
   "execution_count": 2,
   "metadata": {
    "_cell_guid": "79c7e3d0-c299-4dcb-8224-4455121ee9b0",
    "_uuid": "d629ff2d2480ee46fbb7e2d37f6b5fab8052498a"
   },
   "outputs": [],
   "source": [
    "order_products_train = pd.read_csv(\"order_products__train.csv\")\n",
    "order_products_prior = pd.read_csv(\"order_products__prior.csv\")\n",
    "orders = pd.read_csv(\"orders.csv\")\n",
    "products = pd.read_csv(\"products.csv\")\n",
    "aisles = pd.read_csv(\"aisles.csv\")\n",
    "departments = pd.read_csv(\"departments.csv\")"
   ]
  },
  {
   "cell_type": "markdown",
   "metadata": {
    "_uuid": "a3c6058d9699aef543a3040119c4de72eae34ae5"
   },
   "source": [
    "<a name=\"AOA\"></a>\n",
    "## Average Order Amount \n",
    "Let's start by getting an idea of how many products customers order on average"
   ]
  },
  {
   "cell_type": "code",
   "execution_count": 3,
   "metadata": {
    "_uuid": "ea9fda95aa1474b757127e9d9327461f46c2aeb2"
   },
   "outputs": [
    {
     "data": {
      "text/html": [
       "<div>\n",
       "<style scoped>\n",
       "    .dataframe tbody tr th:only-of-type {\n",
       "        vertical-align: middle;\n",
       "    }\n",
       "\n",
       "    .dataframe tbody tr th {\n",
       "        vertical-align: top;\n",
       "    }\n",
       "\n",
       "    .dataframe thead th {\n",
       "        text-align: right;\n",
       "    }\n",
       "</style>\n",
       "<table border=\"1\" class=\"dataframe\">\n",
       "  <thead>\n",
       "    <tr style=\"text-align: right;\">\n",
       "      <th></th>\n",
       "      <th>order_id</th>\n",
       "      <th>product_id</th>\n",
       "      <th>add_to_cart_order</th>\n",
       "      <th>reordered</th>\n",
       "    </tr>\n",
       "  </thead>\n",
       "  <tbody>\n",
       "    <tr>\n",
       "      <th>32434484</th>\n",
       "      <td>3421083</td>\n",
       "      <td>39678</td>\n",
       "      <td>6</td>\n",
       "      <td>1</td>\n",
       "    </tr>\n",
       "    <tr>\n",
       "      <th>32434485</th>\n",
       "      <td>3421083</td>\n",
       "      <td>11352</td>\n",
       "      <td>7</td>\n",
       "      <td>0</td>\n",
       "    </tr>\n",
       "    <tr>\n",
       "      <th>32434486</th>\n",
       "      <td>3421083</td>\n",
       "      <td>4600</td>\n",
       "      <td>8</td>\n",
       "      <td>0</td>\n",
       "    </tr>\n",
       "    <tr>\n",
       "      <th>32434487</th>\n",
       "      <td>3421083</td>\n",
       "      <td>24852</td>\n",
       "      <td>9</td>\n",
       "      <td>1</td>\n",
       "    </tr>\n",
       "    <tr>\n",
       "      <th>32434488</th>\n",
       "      <td>3421083</td>\n",
       "      <td>5020</td>\n",
       "      <td>10</td>\n",
       "      <td>1</td>\n",
       "    </tr>\n",
       "  </tbody>\n",
       "</table>\n",
       "</div>"
      ],
      "text/plain": [
       "          order_id  product_id  add_to_cart_order  reordered\n",
       "32434484   3421083       39678                  6          1\n",
       "32434485   3421083       11352                  7          0\n",
       "32434486   3421083        4600                  8          0\n",
       "32434487   3421083       24852                  9          1\n",
       "32434488   3421083        5020                 10          1"
      ]
     },
     "execution_count": 3,
     "metadata": {},
     "output_type": "execute_result"
    }
   ],
   "source": [
    "opp = order_products_prior\n",
    "opp.tail()"
   ]
  },
  {
   "cell_type": "code",
   "execution_count": 4,
   "metadata": {
    "_uuid": "367de4b1eb0c9cd6ed43d1e80da345d8b5c2affa"
   },
   "outputs": [
    {
     "data": {
      "text/html": [
       "<div>\n",
       "<style scoped>\n",
       "    .dataframe tbody tr th:only-of-type {\n",
       "        vertical-align: middle;\n",
       "    }\n",
       "\n",
       "    .dataframe tbody tr th {\n",
       "        vertical-align: top;\n",
       "    }\n",
       "\n",
       "    .dataframe thead th {\n",
       "        text-align: right;\n",
       "    }\n",
       "</style>\n",
       "<table border=\"1\" class=\"dataframe\">\n",
       "  <thead>\n",
       "    <tr style=\"text-align: right;\">\n",
       "      <th></th>\n",
       "      <th>order_id</th>\n",
       "      <th>product_id</th>\n",
       "      <th>add_to_cart_order</th>\n",
       "      <th>reordered</th>\n",
       "    </tr>\n",
       "  </thead>\n",
       "  <tbody>\n",
       "    <tr>\n",
       "      <th>1384612</th>\n",
       "      <td>3421063</td>\n",
       "      <td>14233</td>\n",
       "      <td>3</td>\n",
       "      <td>1</td>\n",
       "    </tr>\n",
       "    <tr>\n",
       "      <th>1384613</th>\n",
       "      <td>3421063</td>\n",
       "      <td>35548</td>\n",
       "      <td>4</td>\n",
       "      <td>1</td>\n",
       "    </tr>\n",
       "    <tr>\n",
       "      <th>1384614</th>\n",
       "      <td>3421070</td>\n",
       "      <td>35951</td>\n",
       "      <td>1</td>\n",
       "      <td>1</td>\n",
       "    </tr>\n",
       "    <tr>\n",
       "      <th>1384615</th>\n",
       "      <td>3421070</td>\n",
       "      <td>16953</td>\n",
       "      <td>2</td>\n",
       "      <td>1</td>\n",
       "    </tr>\n",
       "    <tr>\n",
       "      <th>1384616</th>\n",
       "      <td>3421070</td>\n",
       "      <td>4724</td>\n",
       "      <td>3</td>\n",
       "      <td>1</td>\n",
       "    </tr>\n",
       "  </tbody>\n",
       "</table>\n",
       "</div>"
      ],
      "text/plain": [
       "         order_id  product_id  add_to_cart_order  reordered\n",
       "1384612   3421063       14233                  3          1\n",
       "1384613   3421063       35548                  4          1\n",
       "1384614   3421070       35951                  1          1\n",
       "1384615   3421070       16953                  2          1\n",
       "1384616   3421070        4724                  3          1"
      ]
     },
     "execution_count": 4,
     "metadata": {},
     "output_type": "execute_result"
    }
   ],
   "source": [
    "opt = order_products_train\n",
    "opt.tail()"
   ]
  },
  {
   "cell_type": "code",
   "execution_count": 5,
   "metadata": {
    "_uuid": "6c473739f51cd46bf0050a29630e4939363a57fc"
   },
   "outputs": [
    {
     "data": {
      "text/html": [
       "<div>\n",
       "<style scoped>\n",
       "    .dataframe tbody tr th:only-of-type {\n",
       "        vertical-align: middle;\n",
       "    }\n",
       "\n",
       "    .dataframe tbody tr th {\n",
       "        vertical-align: top;\n",
       "    }\n",
       "\n",
       "    .dataframe thead th {\n",
       "        text-align: right;\n",
       "    }\n",
       "</style>\n",
       "<table border=\"1\" class=\"dataframe\">\n",
       "  <thead>\n",
       "    <tr style=\"text-align: right;\">\n",
       "      <th></th>\n",
       "      <th>order_id</th>\n",
       "      <th>product_id</th>\n",
       "      <th>add_to_cart_order</th>\n",
       "      <th>reordered</th>\n",
       "    </tr>\n",
       "  </thead>\n",
       "  <tbody>\n",
       "    <tr>\n",
       "      <th>1384612</th>\n",
       "      <td>3421063</td>\n",
       "      <td>14233</td>\n",
       "      <td>3</td>\n",
       "      <td>1</td>\n",
       "    </tr>\n",
       "    <tr>\n",
       "      <th>1384613</th>\n",
       "      <td>3421063</td>\n",
       "      <td>35548</td>\n",
       "      <td>4</td>\n",
       "      <td>1</td>\n",
       "    </tr>\n",
       "    <tr>\n",
       "      <th>1384614</th>\n",
       "      <td>3421070</td>\n",
       "      <td>35951</td>\n",
       "      <td>1</td>\n",
       "      <td>1</td>\n",
       "    </tr>\n",
       "    <tr>\n",
       "      <th>1384615</th>\n",
       "      <td>3421070</td>\n",
       "      <td>16953</td>\n",
       "      <td>2</td>\n",
       "      <td>1</td>\n",
       "    </tr>\n",
       "    <tr>\n",
       "      <th>1384616</th>\n",
       "      <td>3421070</td>\n",
       "      <td>4724</td>\n",
       "      <td>3</td>\n",
       "      <td>1</td>\n",
       "    </tr>\n",
       "  </tbody>\n",
       "</table>\n",
       "</div>"
      ],
      "text/plain": [
       "         order_id  product_id  add_to_cart_order  reordered\n",
       "1384612   3421063       14233                  3          1\n",
       "1384613   3421063       35548                  4          1\n",
       "1384614   3421070       35951                  1          1\n",
       "1384615   3421070       16953                  2          1\n",
       "1384616   3421070        4724                  3          1"
      ]
     },
     "execution_count": 5,
     "metadata": {},
     "output_type": "execute_result"
    }
   ],
   "source": [
    "opa = pd.concat([opp, opt], axis = 0) # 'order products all'\n",
    "opa.tail()"
   ]
  },
  {
   "cell_type": "code",
   "execution_count": 6,
   "metadata": {
    "_uuid": "f314e0150857f8e03f9c351f10e0941d6be4f7de"
   },
   "outputs": [
    {
     "name": "stdout",
     "output_type": "stream",
     "text": [
      "32434489\n",
      "1384617\n",
      "33819106\n",
      "order_id             0\n",
      "product_id           0\n",
      "add_to_cart_order    0\n",
      "reordered            0\n",
      "dtype: int64\n"
     ]
    }
   ],
   "source": [
    "# sanity check\n",
    "print(len(opp))\n",
    "print(len(opt))\n",
    "print(len(opa))\n",
    "print(opa.isnull().sum())"
   ]
  },
  {
   "cell_type": "markdown",
   "metadata": {
    "_uuid": "a44209a13cfc8cfb1aad11e424411e1881080727"
   },
   "source": [
    "Now we can take a look at the distribution of number of products ordered"
   ]
  },
  {
   "cell_type": "code",
   "execution_count": 7,
   "metadata": {
    "_uuid": "3e0265a3cb423529a0dcb00b691d3c7b3e2e16db"
   },
   "outputs": [
    {
     "data": {
      "image/png": "[encoded data removed]",
      "text/plain": [
       "<Figure size 1080x864 with 1 Axes>"
      ]
     },
     "metadata": {},
     "output_type": "display_data"
    }
   ],
   "source": [
    "order_total = opa.groupby('order_id')['add_to_cart_order'].max().reset_index()\n",
    "order_total = order_total.add_to_cart_order.value_counts()[:20] #nlargest(20)\n",
    "\n",
    "sns.set_style('whitegrid')\n",
    "f, ax = plt.subplots(figsize=(15,12))\n",
    "plt.xticks(rotation = 'vertical')\n",
    "sns.barplot(order_total.index, order_total.values)\n",
    "\n",
    "plt.ylabel('Number of Orders', fontsize = 14) \n",
    "plt.xlabel('Product Number', fontsize = 14)\n",
    "#plt.xlabel('Number of Products in Order', fontsize=14)\n",
    "plt.show()"
   ]
  },
  {
   "cell_type": "markdown",
   "metadata": {
    "_uuid": "586aeb634259b4ca8d788a7408400897579e0c38"
   },
   "source": [
    "From the bar chart we can see the average is 5 but with order amounts of 3-8 all totaling over 200k orders. From this we can deduce we'll want to recommend our customers somewhere in the range of 3-8 products"
   ]
  },
  {
   "cell_type": "markdown",
   "metadata": {
    "_uuid": "12b051cc0c4960955085181ed4452fc98f86c356"
   },
   "source": [
    "<a name='MPP'></a>\n",
    "## Most Popular Products \n",
    "Now that we know how many products to recommend our customers. We need to figure out what those products will be. \n",
    "\n",
    "Like any recommendation system, for a new customer we won't know what they like so we can recommend them products based off of what they've bought previously. Instead we'll take a marketing approach and recommend what's popular since people tend to buy what they see other people buying. \n",
    "\n",
    "So what are our most popular items? "
   ]
  },
  {
   "cell_type": "code",
   "execution_count": 8,
   "metadata": {
    "_uuid": "70b65e250999488aa8421d7d0c93063537fb04db"
   },
   "outputs": [
    {
     "data": {
      "text/html": [
       "<div>\n",
       "<style scoped>\n",
       "    .dataframe tbody tr th:only-of-type {\n",
       "        vertical-align: middle;\n",
       "    }\n",
       "\n",
       "    .dataframe tbody tr th {\n",
       "        vertical-align: top;\n",
       "    }\n",
       "\n",
       "    .dataframe thead th {\n",
       "        text-align: right;\n",
       "    }\n",
       "</style>\n",
       "<table border=\"1\" class=\"dataframe\">\n",
       "  <thead>\n",
       "    <tr style=\"text-align: right;\">\n",
       "      <th></th>\n",
       "      <th>product_id</th>\n",
       "      <th>total_ordered</th>\n",
       "      <th>product_name</th>\n",
       "    </tr>\n",
       "  </thead>\n",
       "  <tbody>\n",
       "    <tr>\n",
       "      <th>24849</th>\n",
       "      <td>24852</td>\n",
       "      <td>491291</td>\n",
       "      <td>Banana</td>\n",
       "    </tr>\n",
       "    <tr>\n",
       "      <th>13173</th>\n",
       "      <td>13176</td>\n",
       "      <td>394930</td>\n",
       "      <td>Bag of Organic Bananas</td>\n",
       "    </tr>\n",
       "    <tr>\n",
       "      <th>21134</th>\n",
       "      <td>21137</td>\n",
       "      <td>275577</td>\n",
       "      <td>Organic Strawberries</td>\n",
       "    </tr>\n",
       "    <tr>\n",
       "      <th>21900</th>\n",
       "      <td>21903</td>\n",
       "      <td>251705</td>\n",
       "      <td>Organic Baby Spinach</td>\n",
       "    </tr>\n",
       "    <tr>\n",
       "      <th>47205</th>\n",
       "      <td>47209</td>\n",
       "      <td>220877</td>\n",
       "      <td>Organic Hass Avocado</td>\n",
       "    </tr>\n",
       "    <tr>\n",
       "      <th>47762</th>\n",
       "      <td>47766</td>\n",
       "      <td>184224</td>\n",
       "      <td>Organic Avocado</td>\n",
       "    </tr>\n",
       "    <tr>\n",
       "      <th>47622</th>\n",
       "      <td>47626</td>\n",
       "      <td>160792</td>\n",
       "      <td>Large Lemon</td>\n",
       "    </tr>\n",
       "    <tr>\n",
       "      <th>16794</th>\n",
       "      <td>16797</td>\n",
       "      <td>149445</td>\n",
       "      <td>Strawberries</td>\n",
       "    </tr>\n",
       "    <tr>\n",
       "      <th>26206</th>\n",
       "      <td>26209</td>\n",
       "      <td>146660</td>\n",
       "      <td>Limes</td>\n",
       "    </tr>\n",
       "    <tr>\n",
       "      <th>27842</th>\n",
       "      <td>27845</td>\n",
       "      <td>142813</td>\n",
       "      <td>Organic Whole Milk</td>\n",
       "    </tr>\n",
       "  </tbody>\n",
       "</table>\n",
       "</div>"
      ],
      "text/plain": [
       "       product_id  total_ordered            product_name\n",
       "24849       24852         491291                  Banana\n",
       "13173       13176         394930  Bag of Organic Bananas\n",
       "21134       21137         275577    Organic Strawberries\n",
       "21900       21903         251705    Organic Baby Spinach\n",
       "47205       47209         220877    Organic Hass Avocado\n",
       "47762       47766         184224         Organic Avocado\n",
       "47622       47626         160792             Large Lemon\n",
       "16794       16797         149445            Strawberries\n",
       "26206       26209         146660                   Limes\n",
       "27842       27845         142813      Organic Whole Milk"
      ]
     },
     "execution_count": 8,
     "metadata": {},
     "output_type": "execute_result"
    }
   ],
   "source": [
    "pop = opa.groupby('product_id')['add_to_cart_order'].aggregate({'total_ordered': 'count'}).reset_index()\n",
    "pop = pop.merge(products[['product_id', 'product_name']], how = 'left', on = ['product_id'])\n",
    "pop = pop.sort_values(by = 'total_ordered', ascending = False)[:10]\n",
    "pop"
   ]
  },
  {
   "cell_type": "markdown",
   "metadata": {
    "_uuid": "728b13efdc9af571024e4271c3a4e9faa5400f33",
    "collapsed": true
   },
   "source": [
    "Let's visualize the data to get a better idea of how our top 10 compare."
   ]
  },
  {
   "cell_type": "code",
   "execution_count": 9,
   "metadata": {
    "_uuid": "e6baa0dec6db18b63d109fb91cbbcf8c6bcefc39"
   },
   "outputs": [
    {
     "data": {
      "image/png": "[encoded data removed]",
      "text/plain": [
       "<Figure size 864x720 with 1 Axes>"
      ]
     },
     "metadata": {},
     "output_type": "display_data"
    }
   ],
   "source": [
    "pop = pop.groupby(['product_name']).sum()['total_ordered'].sort_values(ascending = False)\n",
    "\n",
    "f, ax = plt.subplots(figsize=(12,10))\n",
    "sns.set_style('darkgrid')\n",
    "sns.barplot(pop.index, pop.values)\n",
    "\n",
    "plt.xticks(rotation = 'vertical')\n",
    "plt.ylabel('Number of Orders', fontsize = 14)\n",
    "plt.xlabel('Most Popular Products', fontsize = 14)\n",
    "plt.show()"
   ]
  },
  {
   "cell_type": "markdown",
   "metadata": {
    "_uuid": "0e4062667dcf23e164ff00228bfffeb8515a3e83",
    "collapsed": true
   },
   "source": [
    "<a name='ROP'></a>\n",
    "## Reordered Products \n",
    "Next we'll want to understand which products are most likely to be reordered so we can recommend products customers are likely to enjoy and buy again. "
   ]
  },
  {
   "cell_type": "code",
   "execution_count": 10,
   "metadata": {
    "_uuid": "23268dc63e8df7f4369c101f6929634163b7ac48"
   },
   "outputs": [
    {
     "data": {
      "text/html": [
       "<div>\n",
       "<style scoped>\n",
       "    .dataframe tbody tr th:only-of-type {\n",
       "        vertical-align: middle;\n",
       "    }\n",
       "\n",
       "    .dataframe tbody tr th {\n",
       "        vertical-align: top;\n",
       "    }\n",
       "\n",
       "    .dataframe thead th {\n",
       "        text-align: right;\n",
       "    }\n",
       "</style>\n",
       "<table border=\"1\" class=\"dataframe\">\n",
       "  <thead>\n",
       "    <tr style=\"text-align: right;\">\n",
       "      <th></th>\n",
       "      <th>reordered</th>\n",
       "      <th>total_products</th>\n",
       "      <th>ratio</th>\n",
       "    </tr>\n",
       "  </thead>\n",
       "  <tbody>\n",
       "    <tr>\n",
       "      <th>0</th>\n",
       "      <td>0</td>\n",
       "      <td>13863746</td>\n",
       "      <td>0.409938</td>\n",
       "    </tr>\n",
       "    <tr>\n",
       "      <th>1</th>\n",
       "      <td>1</td>\n",
       "      <td>19955360</td>\n",
       "      <td>0.590062</td>\n",
       "    </tr>\n",
       "  </tbody>\n",
       "</table>\n",
       "</div>"
      ],
      "text/plain": [
       "   reordered  total_products     ratio\n",
       "0          0        13863746  0.409938\n",
       "1          1        19955360  0.590062"
      ]
     },
     "execution_count": 10,
     "metadata": {},
     "output_type": "execute_result"
    }
   ],
   "source": [
    "reorder_ratio = opa.groupby('reordered')['product_id'].agg({'total_products': 'count'}).reset_index()\n",
    "reorder_ratio['ratio'] = reorder_ratio['total_products'].apply(lambda x: x / reorder_ratio['total_products'].sum())\n",
    "reorder_ratio"
   ]
  },
  {
   "cell_type": "markdown",
   "metadata": {
    "_uuid": "5dcabdb9b97b0cbd43e1f7138aeb738da0278a33"
   },
   "source": [
    "~60% of our total orders are reorders. In other words, the bulk of our money is made in customers reordering products they like. Let's get a visual on that"
   ]
  },
  {
   "cell_type": "code",
   "execution_count": 11,
   "metadata": {
    "_uuid": "54d4f68bb6a4938b4d3383a3a3a54875ca692053"
   },
   "outputs": [
    {
     "data": {
      "image/png": "[encoded data removed]",
      "text/plain": [
       "<Figure size 360x576 with 1 Axes>"
      ]
     },
     "metadata": {},
     "output_type": "display_data"
    }
   ],
   "source": [
    "reorder_ratio = reorder_ratio.groupby(['reordered']).sum()['total_products'].sort_values(ascending = False)\n",
    "\n",
    "f, ax = plt.subplots(figsize = (5,8))\n",
    "sns.set_style('whitegrid')\n",
    "sns.barplot(reorder_ratio.index, reorder_ratio.values, palette = 'RdBu')\n",
    "\n",
    "plt.xlabel('New Item/Reordered', fontsize = 14)\n",
    "plt.ylabel('Total Number of Orders', fontsize = 14)\n",
    "plt.ticklabel_format(style = 'plain', axis = 'y')\n",
    "plt.show()\n"
   ]
  },
  {
   "cell_type": "markdown",
   "metadata": {
    "_uuid": "f3a62450f21d63fb5719d52cb33dd52b6f4fcd37"
   },
   "source": [
    "That's a solid 6 million orders difference between the new items and the reordered prodcts. It's safe to say reordered products deserve our attention. Let's take a look at the products most likely to be reordered. Since we're looking for a percentage value here it can easily skew us to high reorder rate items that were only ordered a couple times so I'm going to set a minimum total order amount at 75. \n",
    "I tried setting the min to 1000 but 9/10 of the results were milk which isn't very useful information as store owners already know milk is a top repeat purchase item and milk is so commonplace the customer would likely buy milk regardless of if we recommended it to them. \n",
    "75 was the final min number because it was the point at which milk stopped showing up in the top results. \n",
    "Ultimately this number doesn't matter as we'll aim to recommend the product the customer is most likely to buy regardless of how many other people bought it."
   ]
  },
  {
   "cell_type": "code",
   "execution_count": 12,
   "metadata": {
    "_uuid": "b970090b3330ee287d58eee8a966b6f2f50c7f26"
   },
   "outputs": [
    {
     "data": {
      "text/html": [
       "<div>\n",
       "<style scoped>\n",
       "    .dataframe tbody tr th:only-of-type {\n",
       "        vertical-align: middle;\n",
       "    }\n",
       "\n",
       "    .dataframe tbody tr th {\n",
       "        vertical-align: top;\n",
       "    }\n",
       "\n",
       "    .dataframe thead th {\n",
       "        text-align: right;\n",
       "    }\n",
       "</style>\n",
       "<table border=\"1\" class=\"dataframe\">\n",
       "  <thead>\n",
       "    <tr style=\"text-align: right;\">\n",
       "      <th></th>\n",
       "      <th>product_id</th>\n",
       "      <th>reorder_total</th>\n",
       "      <th>order_total</th>\n",
       "      <th>reorder_probability</th>\n",
       "      <th>product_name</th>\n",
       "    </tr>\n",
       "  </thead>\n",
       "  <tbody>\n",
       "    <tr>\n",
       "      <th>2074</th>\n",
       "      <td>2075</td>\n",
       "      <td>84</td>\n",
       "      <td>90</td>\n",
       "      <td>0.933333</td>\n",
       "      <td>Serenity Ultimate Extrema Overnight Pads</td>\n",
       "    </tr>\n",
       "    <tr>\n",
       "      <th>27737</th>\n",
       "      <td>27740</td>\n",
       "      <td>94</td>\n",
       "      <td>102</td>\n",
       "      <td>0.921569</td>\n",
       "      <td>Chocolate Love Bar</td>\n",
       "    </tr>\n",
       "    <tr>\n",
       "      <th>35601</th>\n",
       "      <td>35604</td>\n",
       "      <td>93</td>\n",
       "      <td>104</td>\n",
       "      <td>0.894231</td>\n",
       "      <td>Maca Buttercups</td>\n",
       "    </tr>\n",
       "    <tr>\n",
       "      <th>38248</th>\n",
       "      <td>38251</td>\n",
       "      <td>99</td>\n",
       "      <td>111</td>\n",
       "      <td>0.891892</td>\n",
       "      <td>Benchbreak Chardonnay</td>\n",
       "    </tr>\n",
       "    <tr>\n",
       "      <th>36798</th>\n",
       "      <td>36801</td>\n",
       "      <td>88</td>\n",
       "      <td>99</td>\n",
       "      <td>0.888889</td>\n",
       "      <td>Organic Blueberry B Mega</td>\n",
       "    </tr>\n",
       "    <tr>\n",
       "      <th>10233</th>\n",
       "      <td>10236</td>\n",
       "      <td>114</td>\n",
       "      <td>131</td>\n",
       "      <td>0.870229</td>\n",
       "      <td>Fragrance Free Clay with Natural Odor Eliminat...</td>\n",
       "    </tr>\n",
       "    <tr>\n",
       "      <th>20595</th>\n",
       "      <td>20598</td>\n",
       "      <td>99</td>\n",
       "      <td>114</td>\n",
       "      <td>0.868421</td>\n",
       "      <td>Thousand Island Salad Snax</td>\n",
       "    </tr>\n",
       "    <tr>\n",
       "      <th>5455</th>\n",
       "      <td>5457</td>\n",
       "      <td>78</td>\n",
       "      <td>90</td>\n",
       "      <td>0.866667</td>\n",
       "      <td>Classic Carbonated Natural Mineral Water</td>\n",
       "    </tr>\n",
       "    <tr>\n",
       "      <th>35493</th>\n",
       "      <td>35496</td>\n",
       "      <td>394</td>\n",
       "      <td>457</td>\n",
       "      <td>0.862144</td>\n",
       "      <td>Real2 Alkalized Water 500 ml</td>\n",
       "    </tr>\n",
       "    <tr>\n",
       "      <th>9289</th>\n",
       "      <td>9292</td>\n",
       "      <td>2580</td>\n",
       "      <td>2995</td>\n",
       "      <td>0.861436</td>\n",
       "      <td>Half And Half Ultra Pasteurized</td>\n",
       "    </tr>\n",
       "  </tbody>\n",
       "</table>\n",
       "</div>"
      ],
      "text/plain": [
       "       product_id  reorder_total  order_total  reorder_probability  \\\n",
       "2074         2075             84           90             0.933333   \n",
       "27737       27740             94          102             0.921569   \n",
       "35601       35604             93          104             0.894231   \n",
       "38248       38251             99          111             0.891892   \n",
       "36798       36801             88           99             0.888889   \n",
       "10233       10236            114          131             0.870229   \n",
       "20595       20598             99          114             0.868421   \n",
       "5455         5457             78           90             0.866667   \n",
       "35493       35496            394          457             0.862144   \n",
       "9289         9292           2580         2995             0.861436   \n",
       "\n",
       "                                            product_name  \n",
       "2074            Serenity Ultimate Extrema Overnight Pads  \n",
       "27737                                 Chocolate Love Bar  \n",
       "35601                                    Maca Buttercups  \n",
       "38248                              Benchbreak Chardonnay  \n",
       "36798                           Organic Blueberry B Mega  \n",
       "10233  Fragrance Free Clay with Natural Odor Eliminat...  \n",
       "20595                         Thousand Island Salad Snax  \n",
       "5455            Classic Carbonated Natural Mineral Water  \n",
       "35493                       Real2 Alkalized Water 500 ml  \n",
       "9289                     Half And Half Ultra Pasteurized  "
      ]
     },
     "execution_count": 12,
     "metadata": {},
     "output_type": "execute_result"
    }
   ],
   "source": [
    "product_rr = opa.groupby('product_id')['reordered'].agg({'reorder_total': sum, 'order_total': 'count'}).reset_index()\n",
    "product_rr['reorder_probability'] = product_rr['reorder_total'] / product_rr['order_total']\n",
    "product_rr = product_rr.merge(products[['product_name', 'product_id']], how = 'left', on = 'product_id')\n",
    "product_rr = product_rr[product_rr.order_total > 75].sort_values(['reorder_probability'], ascending = False)[:10]\n",
    "product_rr"
   ]
  },
  {
   "cell_type": "code",
   "execution_count": 13,
   "metadata": {
    "_uuid": "9159cc97d2e8820eee7d6cee405b6dd705675617"
   },
   "outputs": [
    {
     "data": {
      "image/png": "[encoded data removed]",
      "text/plain": [
       "<Figure size 864x720 with 1 Axes>"
      ]
     },
     "metadata": {},
     "output_type": "display_data"
    }
   ],
   "source": [
    "product_rr = product_rr.sort_values('reorder_probability', ascending = False)\n",
    "\n",
    "plt.subplots(figsize = (12, 10))\n",
    "sns.set_style('darkgrid')\n",
    "sns.barplot(product_rr.product_name, product_rr.reorder_probability)\n",
    "plt.ylim([.85, .95])\n",
    "plt.xticks(rotation = 'vertical')\n",
    "plt.xlabel('Most Reordered Products')\n",
    "plt.ylabel('Reorder Probability')\n",
    "plt.show()"
   ]
  },
  {
   "cell_type": "markdown",
   "metadata": {
    "_uuid": "16c419dca95e315870c8de70fa50a5bc980a2d01"
   },
   "source": [
    "<a name='OB'></a>\n",
    "## Ordering Behavior\n",
    "\n",
    "Now that we have a good feel about our top products, let's shift focus to how our customers tend to order\n",
    "\n",
    "### Time of Day <a name='ToD'></a>\n",
    "\n",
    "We'll start by understanding the time of day orders occur."
   ]
  },
  {
   "cell_type": "code",
   "execution_count": 14,
   "metadata": {
    "_uuid": "db5939f9c9ad1280e6d7e766cdcf1a44978cf100"
   },
   "outputs": [
    {
     "data": {
      "image/png": "[encoded data removed]",
      "text/plain": [
       "<Figure size 1080x720 with 1 Axes>"
      ]
     },
     "metadata": {},
     "output_type": "display_data"
    }
   ],
   "source": [
    "time_of_day = orders.groupby('order_hour_of_day')['order_id'].agg('count').reset_index()\n",
    "\n",
    "f, ax = plt.subplots(figsize = (15, 10))\n",
    "sns.barplot(time_of_day['order_hour_of_day'], time_of_day['order_id'])\n",
    "plt.xlabel('Orders by Hour', fontsize = 14)\n",
    "plt.ylabel('Total Orders', fontsize = 14)\n",
    "plt.show()"
   ]
  },
  {
   "cell_type": "markdown",
   "metadata": {
    "_uuid": "d4a10d9d103a87e91410e850748dc6a42966f891"
   },
   "source": [
    "Considering the most popular times of day fall between 9am and 5pm I'm guessing our customers mostly shop at work. We'll verify what day of the week most shopping occurs next. \n",
    "### Day of Week <a name='DoW'></a>"
   ]
  },
  {
   "cell_type": "code",
   "execution_count": 15,
   "metadata": {
    "_uuid": "584a4db8377da0486b109eaf21c63f98513a9f5c"
   },
   "outputs": [
    {
     "data": {
      "image/png": "[encoded data removed]",
      "text/plain": [
       "<Figure size 1080x720 with 1 Axes>"
      ]
     },
     "metadata": {},
     "output_type": "display_data"
    }
   ],
   "source": [
    "grouped = orders.groupby('order_dow')['order_id'].agg('count').reset_index()\n",
    "\n",
    "f, ax = plt.subplots(figsize = (15,10))\n",
    "sns.set_style('whitegrid')\n",
    "current_palette = sns.color_palette('colorblind')\n",
    "sns.set_palette(current_palette)\n",
    "sns.barplot(x = 'order_dow', y = 'order_id', data = grouped)\n",
    "plt.xlabel('Day of Week')\n",
    "plt.ylabel('Total Orders')\n",
    "plt.show()"
   ]
  },
  {
   "cell_type": "markdown",
   "metadata": {
    "_uuid": "eb08a2aea57f1cae3610858d4e26d15703401ae0",
    "collapsed": true
   },
   "source": [
    "Unfortunately, we don't have information on how Instacart labeled their day of week data so we're not sure what days these numbers line up with. Based off the graph, two days of the week dominate though. \n",
    "\n",
    "Those two days can be the weekend, since people shop on weekends.\n",
    "\n",
    "We'll tentatively conclude the weekend is when most people buy their groceries. \n",
    "<a name='RoR'></a>\n",
    "### Rate of Reorder \n",
    "\n",
    "Next we'll examine how often a typical customer orders."
   ]
  },
  {
   "cell_type": "code",
   "execution_count": 16,
   "metadata": {
    "_uuid": "f2394dec4f74da644e09e21f881b1bb570194174"
   },
   "outputs": [
    {
     "data": {
      "image/png": "[encoded data removed]",
      "text/plain": [
       "<Figure size 1080x1368 with 1 Axes>"
      ]
     },
     "metadata": {},
     "output_type": "display_data"
    }
   ],
   "source": [
    "grouped = orders.groupby('days_since_prior_order')['order_id'].agg('count').reset_index()\n",
    "\n",
    "from matplotlib.ticker import FormatStrFormatter\n",
    "f, ax = plt.subplots(figsize = (15,19))\n",
    "sns.barplot(x = 'days_since_prior_order', y = 'order_id', data = grouped)\n",
    "ax.xaxis.set_major_formatter(FormatStrFormatter('%.0f'))\n",
    "plt.xlabel('Days to Reorder')\n",
    "plt.ylabel('Total Orders')\n",
    "plt.show()"
   ]
  },
  {
   "cell_type": "markdown",
   "metadata": {
    "_uuid": "0fae422296961a9194fbaa59981c636b42375f20"
   },
   "source": [
    "Customers on average order once a week. Assuming 30 is not an aggregate meaning 30+ we can also conclude if customers are not weekly shoppers with us they are monthly shoppers. \n",
    "\n",
    "The last insight we can mine from 'orders' is how many orders a typical customer makes. \n",
    ">Put more strategically, after how many orders can we expect a customer to churn? "
   ]
  },
  {
   "cell_type": "code",
   "execution_count": 17,
   "metadata": {
    "_uuid": "6c0e36eeafe7a586ccf920432088578cb870db4e"
   },
   "outputs": [
    {
     "data": {
      "image/png": "[encoded data removed]",
      "text/plain": [
       "<Figure size 1080x864 with 1 Axes>"
      ]
     },
     "metadata": {},
     "output_type": "display_data"
    }
   ],
   "source": [
    "grouped = orders.groupby('user_id')['order_id'].agg('count')\n",
    "grouped = grouped.value_counts()\n",
    "\n",
    "f, ax = plt.subplots(figsize=(15, 12))\n",
    "sns.barplot(grouped.index, grouped.values)\n",
    "plt.xlabel('Number of Orders')\n",
    "plt.ylabel('Number of Customers')\n",
    "plt.show()"
   ]
  },
  {
   "cell_type": "markdown",
   "metadata": {
    "_uuid": "e6c7a30178c35878afff446917cfc9dc7230b6ca"
   },
   "source": [
    "The most likely time a new customer is going to churn is after the 4th order. Perhaps we should give them something free if they make a 5th order. Maybe combine that with an online punch card that awards them again on their 10th order. \n",
    "As you can see from the 100 bar at the far right, if we can keep them around long enough, the shopping experience will become a habit and customers will continue to buy from us; on average every 7 days as our earlier chart showed.\n",
    "<a name='PDA'></a>\n",
    "## Products, Departments & Aisles \n",
    "At this point we have a good idea of our customers buying behavior and favorite products. \n",
    "\n",
    "Now, we'll move the focus inward and explore our store inventory. In which department do we offer the most products? Which aisle generates the most sales? We'll cover these questions and more right after we merge our products, departments, and aisles tables together into one nice and clean dataframe. "
   ]
  },
  {
   "cell_type": "code",
   "execution_count": 18,
   "metadata": {
    "_uuid": "cfd94c4020be54758cc58d3ad648e5b9e55d9497"
   },
   "outputs": [
    {
     "data": {
      "text/html": [
       "<div>\n",
       "<style scoped>\n",
       "    .dataframe tbody tr th:only-of-type {\n",
       "        vertical-align: middle;\n",
       "    }\n",
       "\n",
       "    .dataframe tbody tr th {\n",
       "        vertical-align: top;\n",
       "    }\n",
       "\n",
       "    .dataframe thead th {\n",
       "        text-align: right;\n",
       "    }\n",
       "</style>\n",
       "<table border=\"1\" class=\"dataframe\">\n",
       "  <thead>\n",
       "    <tr style=\"text-align: right;\">\n",
       "      <th></th>\n",
       "      <th>product_id</th>\n",
       "      <th>product_name</th>\n",
       "      <th>aisle_id</th>\n",
       "      <th>department_id</th>\n",
       "      <th>department</th>\n",
       "      <th>aisle</th>\n",
       "    </tr>\n",
       "  </thead>\n",
       "  <tbody>\n",
       "    <tr>\n",
       "      <th>0</th>\n",
       "      <td>1</td>\n",
       "      <td>Chocolate Sandwich Cookies</td>\n",
       "      <td>61</td>\n",
       "      <td>19</td>\n",
       "      <td>snacks</td>\n",
       "      <td>cookies cakes</td>\n",
       "    </tr>\n",
       "    <tr>\n",
       "      <th>1</th>\n",
       "      <td>2</td>\n",
       "      <td>All-Seasons Salt</td>\n",
       "      <td>104</td>\n",
       "      <td>13</td>\n",
       "      <td>pantry</td>\n",
       "      <td>spices seasonings</td>\n",
       "    </tr>\n",
       "    <tr>\n",
       "      <th>2</th>\n",
       "      <td>3</td>\n",
       "      <td>Robust Golden Unsweetened Oolong Tea</td>\n",
       "      <td>94</td>\n",
       "      <td>7</td>\n",
       "      <td>beverages</td>\n",
       "      <td>tea</td>\n",
       "    </tr>\n",
       "    <tr>\n",
       "      <th>3</th>\n",
       "      <td>4</td>\n",
       "      <td>Smart Ones Classic Favorites Mini Rigatoni Wit...</td>\n",
       "      <td>38</td>\n",
       "      <td>1</td>\n",
       "      <td>frozen</td>\n",
       "      <td>frozen meals</td>\n",
       "    </tr>\n",
       "    <tr>\n",
       "      <th>4</th>\n",
       "      <td>5</td>\n",
       "      <td>Green Chile Anytime Sauce</td>\n",
       "      <td>5</td>\n",
       "      <td>13</td>\n",
       "      <td>pantry</td>\n",
       "      <td>marinades meat preparation</td>\n",
       "    </tr>\n",
       "  </tbody>\n",
       "</table>\n",
       "</div>"
      ],
      "text/plain": [
       "   product_id                                       product_name  aisle_id  \\\n",
       "0           1                         Chocolate Sandwich Cookies        61   \n",
       "1           2                                   All-Seasons Salt       104   \n",
       "2           3               Robust Golden Unsweetened Oolong Tea        94   \n",
       "3           4  Smart Ones Classic Favorites Mini Rigatoni Wit...        38   \n",
       "4           5                          Green Chile Anytime Sauce         5   \n",
       "\n",
       "   department_id department                       aisle  \n",
       "0             19     snacks               cookies cakes  \n",
       "1             13     pantry           spices seasonings  \n",
       "2              7  beverages                         tea  \n",
       "3              1     frozen                frozen meals  \n",
       "4             13     pantry  marinades meat preparation  "
      ]
     },
     "execution_count": 18,
     "metadata": {},
     "output_type": "execute_result"
    }
   ],
   "source": [
    "items = products.merge(departments, how='left', on='department_id')\n",
    "items = items.merge(aisles, how='left', on='aisle_id')\n",
    "items.head()"
   ]
  },
  {
   "cell_type": "markdown",
   "metadata": {
    "_uuid": "144e7eda8dd25fbb5d84e237a691fe858a8472e5",
    "collapsed": true
   },
   "source": [
    "<a name='DMP'></a>\n",
    "## Departments with The Most Products"
   ]
  },
  {
   "cell_type": "code",
   "execution_count": 19,
   "metadata": {
    "_uuid": "cbe87e728de90e187a30613dfb096c6785e7500d"
   },
   "outputs": [
    {
     "data": {
      "text/html": [
       "<div>\n",
       "<style scoped>\n",
       "    .dataframe tbody tr th:only-of-type {\n",
       "        vertical-align: middle;\n",
       "    }\n",
       "\n",
       "    .dataframe tbody tr th {\n",
       "        vertical-align: top;\n",
       "    }\n",
       "\n",
       "    .dataframe thead th {\n",
       "        text-align: right;\n",
       "    }\n",
       "</style>\n",
       "<table border=\"1\" class=\"dataframe\">\n",
       "  <thead>\n",
       "    <tr style=\"text-align: right;\">\n",
       "      <th></th>\n",
       "      <th>department</th>\n",
       "      <th>total_products</th>\n",
       "      <th>percent_of_inv</th>\n",
       "    </tr>\n",
       "  </thead>\n",
       "  <tbody>\n",
       "    <tr>\n",
       "      <th>17</th>\n",
       "      <td>personal care</td>\n",
       "      <td>6563</td>\n",
       "      <td>0.132084</td>\n",
       "    </tr>\n",
       "    <tr>\n",
       "      <th>20</th>\n",
       "      <td>snacks</td>\n",
       "      <td>6264</td>\n",
       "      <td>0.126067</td>\n",
       "    </tr>\n",
       "    <tr>\n",
       "      <th>16</th>\n",
       "      <td>pantry</td>\n",
       "      <td>5371</td>\n",
       "      <td>0.108095</td>\n",
       "    </tr>\n",
       "    <tr>\n",
       "      <th>3</th>\n",
       "      <td>beverages</td>\n",
       "      <td>4365</td>\n",
       "      <td>0.087848</td>\n",
       "    </tr>\n",
       "    <tr>\n",
       "      <th>10</th>\n",
       "      <td>frozen</td>\n",
       "      <td>4007</td>\n",
       "      <td>0.080643</td>\n",
       "    </tr>\n",
       "  </tbody>\n",
       "</table>\n",
       "</div>"
      ],
      "text/plain": [
       "       department  total_products  percent_of_inv\n",
       "17  personal care            6563        0.132084\n",
       "20         snacks            6264        0.126067\n",
       "16         pantry            5371        0.108095\n",
       "3       beverages            4365        0.087848\n",
       "10         frozen            4007        0.080643"
      ]
     },
     "execution_count": 19,
     "metadata": {},
     "output_type": "execute_result"
    }
   ],
   "source": [
    "grouped = items.groupby('department')['department_id'].agg({'total_products': 'count'}).reset_index()\n",
    "grouped['percent_of_inv'] = grouped['total_products'].apply(lambda x: x / grouped['total_products'].sum())\n",
    "grouped = grouped.sort_values(by='total_products', ascending=False)\n",
    "grouped.head()"
   ]
  },
  {
   "cell_type": "code",
   "execution_count": 20,
   "metadata": {
    "_uuid": "3133b6c92acdc3d2528221246a36426f4553b635"
   },
   "outputs": [
    {
     "data": {
      "text/plain": [
       "<function matplotlib.pyplot.show(*args, **kw)>"
      ]
     },
     "execution_count": 20,
     "metadata": {},
     "output_type": "execute_result"
    },
    {
     "data": {
      "image/png": "[encoded data removed]",
      "text/plain": [
       "<Figure size 864x720 with 1 Axes>"
      ]
     },
     "metadata": {},
     "output_type": "display_data"
    }
   ],
   "source": [
    "f, ax = plt.subplots(figsize=(12,10))\n",
    "sns.barplot(x='department', y='total_products', data=grouped)\n",
    "plt.xticks(rotation='vertical')\n",
    "plt.xlabel('Department', fontsize=14)\n",
    "plt.ylabel('Number of Products', fontsize=14)\n",
    "plt.show"
   ]
  },
  {
   "cell_type": "markdown",
   "metadata": {
    "_uuid": "842b481ac24f33475d6f69ad8f9dbe5e82fc0c74"
   },
   "source": [
    "Given the variety of affordable personal care items and snack items out there. It makes sense that we store a greater variety of those type of items more than anything else.\n",
    "<a name='MPPA'></a>\n",
    "## Most Products Per Aisle\n",
    "So we know which departments have more products than others, but what are those products? Let's generate plots of each department to see which aisles in each department we stock the most. We'll stick to our top 2 departments."
   ]
  },
  {
   "cell_type": "code",
   "execution_count": 21,
   "metadata": {
    "_uuid": "a061443d613d3fb884509e69e6898f231ea5fa36"
   },
   "outputs": [
    {
     "data": {
      "image/png": "[encoded data removed]",
      "text/plain": [
       "<Figure size 432x288 with 1 Axes>"
      ]
     },
     "metadata": {},
     "output_type": "display_data"
    }
   ],
   "source": [
    "g1 = items.groupby([\"department\", \"aisle\"], as_index=False).size().reset_index(name=\"count\")\n",
    "g2 = g1.loc[g1['department'] == 'personal care']\n",
    "g2 = g2.sort_values(by='count', ascending=False)[:5]\n",
    "current_palette = sns.color_palette('colorblind')\n",
    "sns.set_palette(current_palette)\n",
    "sns.barplot(x='aisle', y='count', data=g2)\n",
    "plt.xticks(rotation='vertical')\n",
    "plt.title('Personal Care Department')\n",
    "plt.show()"
   ]
  },
  {
   "cell_type": "code",
   "execution_count": 22,
   "metadata": {
    "_uuid": "2c7b1d7d53756da42fc76ddd5ea4c97e9549fe71"
   },
   "outputs": [
    {
     "data": {
      "image/png": "[encoded data removed]",
      "text/plain": [
       "<Figure size 432x288 with 1 Axes>"
      ]
     },
     "metadata": {},
     "output_type": "display_data"
    }
   ],
   "source": [
    "g2 = g1.loc[g1['department'] == 'snacks']\n",
    "g2 = g2.sort_values(by='count', ascending=False)[:5]\n",
    "current_palette = sns.color_palette('colorblind')\n",
    "sns.set_palette(current_palette)\n",
    "sns.barplot(x='aisle', y='count', data=g2)\n",
    "plt.xticks(rotation='vertical')\n",
    "plt.title('Snacks Department')\n",
    "plt.show()"
   ]
  },
  {
   "cell_type": "markdown",
   "metadata": {
    "_uuid": "252123daebd703b197aa5fb21e5a9dd41ae8ede4",
    "collapsed": true
   },
   "source": [
    "Vitamin supplements and candy chocolates make the top two."
   ]
  },
  {
   "cell_type": "markdown",
   "metadata": {
    "_uuid": "ab62c433adc6b619386373c18649a7dd0408ab11"
   },
   "source": [
    "<a name='AMP'></a>\n",
    "## Aisle's with The Most Products (Top 10)"
   ]
  },
  {
   "cell_type": "markdown",
   "metadata": {
    "_uuid": "c5ea17a365c1438ff085bd2ae19f1c9c99ca5bb5"
   },
   "source": [
    "Now let's remove the top department criteria and look at aisle product count independent of department. "
   ]
  },
  {
   "cell_type": "code",
   "execution_count": 23,
   "metadata": {
    "_uuid": "fce3450a2416a0990565022bdf42aef865113063"
   },
   "outputs": [
    {
     "data": {
      "text/html": [
       "<div>\n",
       "<style scoped>\n",
       "    .dataframe tbody tr th:only-of-type {\n",
       "        vertical-align: middle;\n",
       "    }\n",
       "\n",
       "    .dataframe tbody tr th {\n",
       "        vertical-align: top;\n",
       "    }\n",
       "\n",
       "    .dataframe thead th {\n",
       "        text-align: right;\n",
       "    }\n",
       "</style>\n",
       "<table border=\"1\" class=\"dataframe\">\n",
       "  <thead>\n",
       "    <tr style=\"text-align: right;\">\n",
       "      <th></th>\n",
       "      <th>aisle</th>\n",
       "      <th>total_products</th>\n",
       "      <th>ratio</th>\n",
       "    </tr>\n",
       "  </thead>\n",
       "  <tbody>\n",
       "    <tr>\n",
       "      <th>85</th>\n",
       "      <td>missing</td>\n",
       "      <td>1258</td>\n",
       "      <td>0.025318</td>\n",
       "    </tr>\n",
       "    <tr>\n",
       "      <th>18</th>\n",
       "      <td>candy chocolate</td>\n",
       "      <td>1246</td>\n",
       "      <td>0.025076</td>\n",
       "    </tr>\n",
       "    <tr>\n",
       "      <th>71</th>\n",
       "      <td>ice cream ice</td>\n",
       "      <td>1091</td>\n",
       "      <td>0.021957</td>\n",
       "    </tr>\n",
       "    <tr>\n",
       "      <th>130</th>\n",
       "      <td>vitamins supplements</td>\n",
       "      <td>1038</td>\n",
       "      <td>0.020890</td>\n",
       "    </tr>\n",
       "    <tr>\n",
       "      <th>133</th>\n",
       "      <td>yogurt</td>\n",
       "      <td>1026</td>\n",
       "      <td>0.020649</td>\n",
       "    </tr>\n",
       "    <tr>\n",
       "      <th>25</th>\n",
       "      <td>chips pretzels</td>\n",
       "      <td>989</td>\n",
       "      <td>0.019904</td>\n",
       "    </tr>\n",
       "    <tr>\n",
       "      <th>125</th>\n",
       "      <td>tea</td>\n",
       "      <td>894</td>\n",
       "      <td>0.017992</td>\n",
       "    </tr>\n",
       "    <tr>\n",
       "      <th>93</th>\n",
       "      <td>packaged cheese</td>\n",
       "      <td>891</td>\n",
       "      <td>0.017932</td>\n",
       "    </tr>\n",
       "    <tr>\n",
       "      <th>59</th>\n",
       "      <td>frozen meals</td>\n",
       "      <td>880</td>\n",
       "      <td>0.017711</td>\n",
       "    </tr>\n",
       "    <tr>\n",
       "      <th>31</th>\n",
       "      <td>cookies cakes</td>\n",
       "      <td>874</td>\n",
       "      <td>0.017590</td>\n",
       "    </tr>\n",
       "  </tbody>\n",
       "</table>\n",
       "</div>"
      ],
      "text/plain": [
       "                    aisle  total_products     ratio\n",
       "85                missing            1258  0.025318\n",
       "18        candy chocolate            1246  0.025076\n",
       "71          ice cream ice            1091  0.021957\n",
       "130  vitamins supplements            1038  0.020890\n",
       "133                yogurt            1026  0.020649\n",
       "25         chips pretzels             989  0.019904\n",
       "125                   tea             894  0.017992\n",
       "93        packaged cheese             891  0.017932\n",
       "59           frozen meals             880  0.017711\n",
       "31          cookies cakes             874  0.017590"
      ]
     },
     "execution_count": 23,
     "metadata": {},
     "output_type": "execute_result"
    }
   ],
   "source": [
    "grouped = items.groupby('aisle')['product_id'].agg({'total_products': 'count'}).reset_index()\n",
    "grouped['ratio'] = grouped['total_products'].apply(lambda x: x /grouped['total_products'].sum())\n",
    "grouped = grouped.sort_values(by='total_products', ascending=False)[:10]\n",
    "grouped"
   ]
  },
  {
   "cell_type": "code",
   "execution_count": 24,
   "metadata": {
    "_uuid": "36d5533f69ce2c07c491e9062b4ed188946af80d"
   },
   "outputs": [
    {
     "data": {
      "image/png": "[encoded data removed]",
      "text/plain": [
       "<Figure size 864x720 with 1 Axes>"
      ]
     },
     "metadata": {},
     "output_type": "display_data"
    }
   ],
   "source": [
    "f, ax = plt.subplots(figsize=(12,10))\n",
    "sns.barplot(x='aisle', y='total_products', data=grouped)\n",
    "plt.xticks(rotation='vertical')\n",
    "plt.show()"
   ]
  },
  {
   "cell_type": "markdown",
   "metadata": {
    "_uuid": "c177a44763a0a4262e6cd01fa27d1ada97ee32ec"
   },
   "source": [
    "<a name='BSD'></a>\n",
    "## Best Selling Department\n",
    "We might carry a lot of personal care items but does that make it the most profitable department?\n",
    "\n",
    "We don't have data on revenue so we can't say which department is the most profitable, but by looking at total orders made by department we can at least know which ones are generating the most sales. "
   ]
  },
  {
   "cell_type": "code",
   "execution_count": 25,
   "metadata": {
    "_uuid": "7311e3fbd9cf000394b011d7bd2008e16651085a"
   },
   "outputs": [
    {
     "data": {
      "text/html": [
       "<div>\n",
       "<style scoped>\n",
       "    .dataframe tbody tr th:only-of-type {\n",
       "        vertical-align: middle;\n",
       "    }\n",
       "\n",
       "    .dataframe tbody tr th {\n",
       "        vertical-align: top;\n",
       "    }\n",
       "\n",
       "    .dataframe thead th {\n",
       "        text-align: right;\n",
       "    }\n",
       "</style>\n",
       "<table border=\"1\" class=\"dataframe\">\n",
       "  <thead>\n",
       "    <tr style=\"text-align: right;\">\n",
       "      <th></th>\n",
       "      <th>order_id</th>\n",
       "      <th>user_id</th>\n",
       "      <th>eval_set</th>\n",
       "      <th>order_number</th>\n",
       "      <th>order_dow</th>\n",
       "      <th>order_hour_of_day</th>\n",
       "      <th>days_since_prior_order</th>\n",
       "    </tr>\n",
       "  </thead>\n",
       "  <tbody>\n",
       "    <tr>\n",
       "      <th>0</th>\n",
       "      <td>2539329</td>\n",
       "      <td>1</td>\n",
       "      <td>prior</td>\n",
       "      <td>1</td>\n",
       "      <td>2</td>\n",
       "      <td>8</td>\n",
       "      <td>NaN</td>\n",
       "    </tr>\n",
       "    <tr>\n",
       "      <th>1</th>\n",
       "      <td>2398795</td>\n",
       "      <td>1</td>\n",
       "      <td>prior</td>\n",
       "      <td>2</td>\n",
       "      <td>3</td>\n",
       "      <td>7</td>\n",
       "      <td>15.0</td>\n",
       "    </tr>\n",
       "    <tr>\n",
       "      <th>2</th>\n",
       "      <td>473747</td>\n",
       "      <td>1</td>\n",
       "      <td>prior</td>\n",
       "      <td>3</td>\n",
       "      <td>3</td>\n",
       "      <td>12</td>\n",
       "      <td>21.0</td>\n",
       "    </tr>\n",
       "    <tr>\n",
       "      <th>3</th>\n",
       "      <td>2254736</td>\n",
       "      <td>1</td>\n",
       "      <td>prior</td>\n",
       "      <td>4</td>\n",
       "      <td>4</td>\n",
       "      <td>7</td>\n",
       "      <td>29.0</td>\n",
       "    </tr>\n",
       "    <tr>\n",
       "      <th>4</th>\n",
       "      <td>431534</td>\n",
       "      <td>1</td>\n",
       "      <td>prior</td>\n",
       "      <td>5</td>\n",
       "      <td>4</td>\n",
       "      <td>15</td>\n",
       "      <td>28.0</td>\n",
       "    </tr>\n",
       "  </tbody>\n",
       "</table>\n",
       "</div>"
      ],
      "text/plain": [
       "   order_id  user_id eval_set  order_number  order_dow  order_hour_of_day  \\\n",
       "0   2539329        1    prior             1          2                  8   \n",
       "1   2398795        1    prior             2          3                  7   \n",
       "2    473747        1    prior             3          3                 12   \n",
       "3   2254736        1    prior             4          4                  7   \n",
       "4    431534        1    prior             5          4                 15   \n",
       "\n",
       "   days_since_prior_order  \n",
       "0                     NaN  \n",
       "1                    15.0  \n",
       "2                    21.0  \n",
       "3                    29.0  \n",
       "4                    28.0  "
      ]
     },
     "execution_count": 25,
     "metadata": {},
     "output_type": "execute_result"
    }
   ],
   "source": [
    "orders.head()"
   ]
  },
  {
   "cell_type": "code",
   "execution_count": 26,
   "metadata": {
    "_uuid": "bd79e43b709b540745f0261738988ca2799afdaa"
   },
   "outputs": [
    {
     "data": {
      "text/plain": [
       "prior    3214874\n",
       "train     131209\n",
       "test       75000\n",
       "Name: eval_set, dtype: int64"
      ]
     },
     "execution_count": 26,
     "metadata": {},
     "output_type": "execute_result"
    }
   ],
   "source": [
    "orders.eval_set.value_counts()"
   ]
  },
  {
   "cell_type": "code",
   "execution_count": 27,
   "metadata": {
    "_uuid": "cd9d5634eed8177a147741e23a181f8c7e46c553"
   },
   "outputs": [
    {
     "data": {
      "text/html": [
       "<div>\n",
       "<style scoped>\n",
       "    .dataframe tbody tr th:only-of-type {\n",
       "        vertical-align: middle;\n",
       "    }\n",
       "\n",
       "    .dataframe tbody tr th {\n",
       "        vertical-align: top;\n",
       "    }\n",
       "\n",
       "    .dataframe thead th {\n",
       "        text-align: right;\n",
       "    }\n",
       "</style>\n",
       "<table border=\"1\" class=\"dataframe\">\n",
       "  <thead>\n",
       "    <tr style=\"text-align: right;\">\n",
       "      <th></th>\n",
       "      <th>department</th>\n",
       "      <th>total_orders</th>\n",
       "      <th>ratio</th>\n",
       "    </tr>\n",
       "  </thead>\n",
       "  <tbody>\n",
       "    <tr>\n",
       "      <th>19</th>\n",
       "      <td>produce</td>\n",
       "      <td>9888378</td>\n",
       "      <td>0.292390</td>\n",
       "    </tr>\n",
       "    <tr>\n",
       "      <th>7</th>\n",
       "      <td>dairy eggs</td>\n",
       "      <td>5631067</td>\n",
       "      <td>0.166505</td>\n",
       "    </tr>\n",
       "    <tr>\n",
       "      <th>20</th>\n",
       "      <td>snacks</td>\n",
       "      <td>3006412</td>\n",
       "      <td>0.088897</td>\n",
       "    </tr>\n",
       "    <tr>\n",
       "      <th>3</th>\n",
       "      <td>beverages</td>\n",
       "      <td>2804175</td>\n",
       "      <td>0.082917</td>\n",
       "    </tr>\n",
       "    <tr>\n",
       "      <th>10</th>\n",
       "      <td>frozen</td>\n",
       "      <td>2336858</td>\n",
       "      <td>0.069099</td>\n",
       "    </tr>\n",
       "    <tr>\n",
       "      <th>16</th>\n",
       "      <td>pantry</td>\n",
       "      <td>1956819</td>\n",
       "      <td>0.057861</td>\n",
       "    </tr>\n",
       "    <tr>\n",
       "      <th>2</th>\n",
       "      <td>bakery</td>\n",
       "      <td>1225181</td>\n",
       "      <td>0.036227</td>\n",
       "    </tr>\n",
       "    <tr>\n",
       "      <th>6</th>\n",
       "      <td>canned goods</td>\n",
       "      <td>1114857</td>\n",
       "      <td>0.032965</td>\n",
       "    </tr>\n",
       "    <tr>\n",
       "      <th>8</th>\n",
       "      <td>deli</td>\n",
       "      <td>1095540</td>\n",
       "      <td>0.032394</td>\n",
       "    </tr>\n",
       "    <tr>\n",
       "      <th>9</th>\n",
       "      <td>dry goods pasta</td>\n",
       "      <td>905340</td>\n",
       "      <td>0.026770</td>\n",
       "    </tr>\n",
       "    <tr>\n",
       "      <th>11</th>\n",
       "      <td>household</td>\n",
       "      <td>774652</td>\n",
       "      <td>0.022906</td>\n",
       "    </tr>\n",
       "    <tr>\n",
       "      <th>13</th>\n",
       "      <td>meat seafood</td>\n",
       "      <td>739238</td>\n",
       "      <td>0.021859</td>\n",
       "    </tr>\n",
       "    <tr>\n",
       "      <th>4</th>\n",
       "      <td>breakfast</td>\n",
       "      <td>739069</td>\n",
       "      <td>0.021854</td>\n",
       "    </tr>\n",
       "    <tr>\n",
       "      <th>17</th>\n",
       "      <td>personal care</td>\n",
       "      <td>468693</td>\n",
       "      <td>0.013859</td>\n",
       "    </tr>\n",
       "    <tr>\n",
       "      <th>1</th>\n",
       "      <td>babies</td>\n",
       "      <td>438743</td>\n",
       "      <td>0.012973</td>\n",
       "    </tr>\n",
       "    <tr>\n",
       "      <th>12</th>\n",
       "      <td>international</td>\n",
       "      <td>281155</td>\n",
       "      <td>0.008313</td>\n",
       "    </tr>\n",
       "    <tr>\n",
       "      <th>0</th>\n",
       "      <td>alcohol</td>\n",
       "      <td>159294</td>\n",
       "      <td>0.004710</td>\n",
       "    </tr>\n",
       "    <tr>\n",
       "      <th>18</th>\n",
       "      <td>pets</td>\n",
       "      <td>102221</td>\n",
       "      <td>0.003023</td>\n",
       "    </tr>\n",
       "    <tr>\n",
       "      <th>14</th>\n",
       "      <td>missing</td>\n",
       "      <td>77396</td>\n",
       "      <td>0.002289</td>\n",
       "    </tr>\n",
       "    <tr>\n",
       "      <th>15</th>\n",
       "      <td>other</td>\n",
       "      <td>38086</td>\n",
       "      <td>0.001126</td>\n",
       "    </tr>\n",
       "    <tr>\n",
       "      <th>5</th>\n",
       "      <td>bulk</td>\n",
       "      <td>35932</td>\n",
       "      <td>0.001062</td>\n",
       "    </tr>\n",
       "  </tbody>\n",
       "</table>\n",
       "</div>"
      ],
      "text/plain": [
       "         department  total_orders     ratio\n",
       "19          produce       9888378  0.292390\n",
       "7        dairy eggs       5631067  0.166505\n",
       "20           snacks       3006412  0.088897\n",
       "3         beverages       2804175  0.082917\n",
       "10           frozen       2336858  0.069099\n",
       "16           pantry       1956819  0.057861\n",
       "2            bakery       1225181  0.036227\n",
       "6      canned goods       1114857  0.032965\n",
       "8              deli       1095540  0.032394\n",
       "9   dry goods pasta        905340  0.026770\n",
       "11        household        774652  0.022906\n",
       "13     meat seafood        739238  0.021859\n",
       "4         breakfast        739069  0.021854\n",
       "17    personal care        468693  0.013859\n",
       "1            babies        438743  0.012973\n",
       "12    international        281155  0.008313\n",
       "0           alcohol        159294  0.004710\n",
       "18             pets        102221  0.003023\n",
       "14          missing         77396  0.002289\n",
       "15            other         38086  0.001126\n",
       "5              bulk         35932  0.001062"
      ]
     },
     "execution_count": 27,
     "metadata": {},
     "output_type": "execute_result"
    }
   ],
   "source": [
    "order_products = orders[['user_id', 'order_id']].merge(opa[['order_id', 'product_id']],\n",
    "                                                 how='inner', on='order_id')\n",
    "order_products = order_products.merge(items, how='inner', on='product_id')\n",
    "\n",
    "grouped = order_products.groupby('department')['order_id'].agg({'total_orders': 'count'}).reset_index()\n",
    "grouped['ratio'] = grouped['total_orders'].apply(lambda x: x / grouped['total_orders'].sum())\n",
    "grouped = grouped.sort_values(by='total_orders', ascending=False)\n",
    "grouped"
   ]
  },
  {
   "cell_type": "code",
   "execution_count": 28,
   "metadata": {
    "_uuid": "95453f389336f4d4e153d07ecafa0524196f0f43"
   },
   "outputs": [
    {
     "data": {
      "image/png": "[encoded data removed]",
      "text/plain": [
       "<Figure size 864x720 with 1 Axes>"
      ]
     },
     "metadata": {},
     "output_type": "display_data"
    }
   ],
   "source": [
    "f, ax = plt.subplots(figsize=(12,10))\n",
    "sns.barplot(x='department', y='total_orders', data=grouped)\n",
    "ax.yaxis.set_major_formatter(FormatStrFormatter('%.0f'))\n",
    "plt.xticks(rotation='vertical')\n",
    "plt.xlabel('Departments', fontsize=14)\n",
    "plt.ylabel('Number of Orders', fontsize=14)\n",
    "plt.show()"
   ]
  },
  {
   "cell_type": "markdown",
   "metadata": {
    "_uuid": "36b1209818280f75b01d9c138b59c56ff3bb145e",
    "collapsed": true
   },
   "source": [
    "Happy to see produce as the most ordered department by a long margin. But what produce are we really talking about here? Let's break it down by aisle.\n",
    "<a name='BSABSD'></a>\n",
    "## Best Selling Aisles in Best Selling Department"
   ]
  },
  {
   "cell_type": "code",
   "execution_count": 29,
   "metadata": {
    "_uuid": "90b70904b1d04decd6ea065e8e0071946afa0661"
   },
   "outputs": [
    {
     "data": {
      "text/html": [
       "<div>\n",
       "<style scoped>\n",
       "    .dataframe tbody tr th:only-of-type {\n",
       "        vertical-align: middle;\n",
       "    }\n",
       "\n",
       "    .dataframe tbody tr th {\n",
       "        vertical-align: top;\n",
       "    }\n",
       "\n",
       "    .dataframe thead th {\n",
       "        text-align: right;\n",
       "    }\n",
       "</style>\n",
       "<table border=\"1\" class=\"dataframe\">\n",
       "  <thead>\n",
       "    <tr style=\"text-align: right;\">\n",
       "      <th></th>\n",
       "      <th>department</th>\n",
       "      <th>aisle</th>\n",
       "      <th>count</th>\n",
       "    </tr>\n",
       "  </thead>\n",
       "  <tbody>\n",
       "    <tr>\n",
       "      <th>118</th>\n",
       "      <td>produce</td>\n",
       "      <td>fresh fruits</td>\n",
       "      <td>3792661</td>\n",
       "    </tr>\n",
       "    <tr>\n",
       "      <th>120</th>\n",
       "      <td>produce</td>\n",
       "      <td>fresh vegetables</td>\n",
       "      <td>3568630</td>\n",
       "    </tr>\n",
       "    <tr>\n",
       "      <th>122</th>\n",
       "      <td>produce</td>\n",
       "      <td>packaged vegetables fruits</td>\n",
       "      <td>1843806</td>\n",
       "    </tr>\n",
       "    <tr>\n",
       "      <th>119</th>\n",
       "      <td>produce</td>\n",
       "      <td>fresh herbs</td>\n",
       "      <td>393793</td>\n",
       "    </tr>\n",
       "    <tr>\n",
       "      <th>121</th>\n",
       "      <td>produce</td>\n",
       "      <td>packaged produce</td>\n",
       "      <td>289488</td>\n",
       "    </tr>\n",
       "  </tbody>\n",
       "</table>\n",
       "</div>"
      ],
      "text/plain": [
       "    department                       aisle    count\n",
       "118    produce                fresh fruits  3792661\n",
       "120    produce            fresh vegetables  3568630\n",
       "122    produce  packaged vegetables fruits  1843806\n",
       "119    produce                 fresh herbs   393793\n",
       "121    produce            packaged produce   289488"
      ]
     },
     "execution_count": 29,
     "metadata": {},
     "output_type": "execute_result"
    }
   ],
   "source": [
    "g1 = order_products.groupby(['department', 'aisle'], as_index=False).size().reset_index(name=\"count\")\n",
    "g2 = g1.loc[g1['department'] == 'produce']\n",
    "g2 = g2.sort_values(by='count', ascending=False)[:5]\n",
    "g2"
   ]
  },
  {
   "cell_type": "code",
   "execution_count": 30,
   "metadata": {
    "_uuid": "6fa7998111fba46029ccce4f76a6dbba011227e0"
   },
   "outputs": [
    {
     "data": {
      "image/png": "[encoded data removed]",
      "text/plain": [
       "<Figure size 432x288 with 1 Axes>"
      ]
     },
     "metadata": {},
     "output_type": "display_data"
    }
   ],
   "source": [
    "current_palette = sns.color_palette('colorblind')\n",
    "sns.set_palette(current_palette)\n",
    "sns.barplot(x='aisle', y='count', data=g2)\n",
    "plt.xticks(rotation='vertical')\n",
    "plt.title('Top Produce Aisles')\n",
    "plt.show()"
   ]
  },
  {
   "cell_type": "markdown",
   "metadata": {
    "_uuid": "a6ff9674e3cdbe65e4d2bfc71bd0861510b9e173",
    "collapsed": true
   },
   "source": [
    "<a name='BSAO'></a>\n",
    "## Best Selling Aisles Overall\n",
    "Our last exploration will be into the top aisles independent of department."
   ]
  },
  {
   "cell_type": "code",
   "execution_count": 31,
   "metadata": {
    "_uuid": "afdf5da01fe08c3229609854d32ab83b48618f04"
   },
   "outputs": [
    {
     "data": {
      "text/html": [
       "<div>\n",
       "<style scoped>\n",
       "    .dataframe tbody tr th:only-of-type {\n",
       "        vertical-align: middle;\n",
       "    }\n",
       "\n",
       "    .dataframe tbody tr th {\n",
       "        vertical-align: top;\n",
       "    }\n",
       "\n",
       "    .dataframe thead th {\n",
       "        text-align: right;\n",
       "    }\n",
       "</style>\n",
       "<table border=\"1\" class=\"dataframe\">\n",
       "  <thead>\n",
       "    <tr style=\"text-align: right;\">\n",
       "      <th></th>\n",
       "      <th>aisle</th>\n",
       "      <th>Total_orders</th>\n",
       "      <th>Ratio</th>\n",
       "    </tr>\n",
       "  </thead>\n",
       "  <tbody>\n",
       "    <tr>\n",
       "      <th>50</th>\n",
       "      <td>fresh fruits</td>\n",
       "      <td>3792661</td>\n",
       "      <td>0.112146</td>\n",
       "    </tr>\n",
       "    <tr>\n",
       "      <th>53</th>\n",
       "      <td>fresh vegetables</td>\n",
       "      <td>3568630</td>\n",
       "      <td>0.105521</td>\n",
       "    </tr>\n",
       "    <tr>\n",
       "      <th>98</th>\n",
       "      <td>packaged vegetables fruits</td>\n",
       "      <td>1843806</td>\n",
       "      <td>0.054520</td>\n",
       "    </tr>\n",
       "    <tr>\n",
       "      <th>133</th>\n",
       "      <td>yogurt</td>\n",
       "      <td>1507583</td>\n",
       "      <td>0.044578</td>\n",
       "    </tr>\n",
       "    <tr>\n",
       "      <th>93</th>\n",
       "      <td>packaged cheese</td>\n",
       "      <td>1021462</td>\n",
       "      <td>0.030204</td>\n",
       "    </tr>\n",
       "    <tr>\n",
       "      <th>83</th>\n",
       "      <td>milk</td>\n",
       "      <td>923659</td>\n",
       "      <td>0.027312</td>\n",
       "    </tr>\n",
       "    <tr>\n",
       "      <th>131</th>\n",
       "      <td>water seltzer sparkling water</td>\n",
       "      <td>878150</td>\n",
       "      <td>0.025966</td>\n",
       "    </tr>\n",
       "    <tr>\n",
       "      <th>25</th>\n",
       "      <td>chips pretzels</td>\n",
       "      <td>753739</td>\n",
       "      <td>0.022287</td>\n",
       "    </tr>\n",
       "    <tr>\n",
       "      <th>119</th>\n",
       "      <td>soy lactosefree</td>\n",
       "      <td>664493</td>\n",
       "      <td>0.019648</td>\n",
       "    </tr>\n",
       "    <tr>\n",
       "      <th>11</th>\n",
       "      <td>bread</td>\n",
       "      <td>608469</td>\n",
       "      <td>0.017992</td>\n",
       "    </tr>\n",
       "  </tbody>\n",
       "</table>\n",
       "</div>"
      ],
      "text/plain": [
       "                             aisle  Total_orders     Ratio\n",
       "50                    fresh fruits       3792661  0.112146\n",
       "53                fresh vegetables       3568630  0.105521\n",
       "98      packaged vegetables fruits       1843806  0.054520\n",
       "133                         yogurt       1507583  0.044578\n",
       "93                 packaged cheese       1021462  0.030204\n",
       "83                            milk        923659  0.027312\n",
       "131  water seltzer sparkling water        878150  0.025966\n",
       "25                  chips pretzels        753739  0.022287\n",
       "119                soy lactosefree        664493  0.019648\n",
       "11                           bread        608469  0.017992"
      ]
     },
     "execution_count": 31,
     "metadata": {},
     "output_type": "execute_result"
    }
   ],
   "source": [
    "grouped = order_products.groupby(\"aisle\")[\"order_id\"].aggregate({'Total_orders': 'count'}).reset_index()\n",
    "grouped['Ratio'] = grouped[\"Total_orders\"].apply(lambda x: x /grouped['Total_orders'].sum())\n",
    "grouped.sort_values(by='Total_orders', ascending=False, inplace=True )\n",
    "grouped.head(10)"
   ]
  },
  {
   "cell_type": "code",
   "execution_count": 32,
   "metadata": {
    "_uuid": "f42883d717e1613a915eb71329f44281c23d267a"
   },
   "outputs": [
    {
     "data": {
      "image/png": "[encoded data removed]",
      "text/plain": [
       "<Figure size 864x1080 with 1 Axes>"
      ]
     },
     "metadata": {},
     "output_type": "display_data"
    }
   ],
   "source": [
    "grouped  = grouped.groupby(['aisle']).sum()['Total_orders'].sort_values(ascending=False)[:15]\n",
    "\n",
    "f, ax = plt.subplots(figsize=(12, 15))\n",
    "plt.xticks(rotation='vertical')\n",
    "sns.barplot(grouped.index, grouped.values)\n",
    "plt.ylabel('Number of Orders', fontsize=13)\n",
    "plt.xlabel('Aisles', fontsize=13)\n",
    "plt.show()"
   ]
  },
  {
   "cell_type": "markdown",
   "metadata": {
    "_uuid": "c6a92e9d13f5395a37c7eb6be7ac7fae7267e852"
   },
   "source": [
    "Fresh fruit and vegetables make up 20% of all orders."
   ]
  }
 ],
 "metadata": {
  "kernelspec": {
   "display_name": "Python 3",
   "language": "python",
   "name": "python3"
  },
  "language_info": {
   "codemirror_mode": {
    "name": "ipython",
    "version": 3
   },
   "file_extension": ".py",
   "mimetype": "text/x-python",
   "name": "python",
   "nbconvert_exporter": "python",
   "pygments_lexer": "ipython3",
   "version": "3.7.3"
  }
 },
 "nbformat": 4,
 "nbformat_minor": 1
}
