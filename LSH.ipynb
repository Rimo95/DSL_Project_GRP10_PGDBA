{
 "cells": [
  {
   "cell_type": "code",
   "execution_count": 1,
   "metadata": {
    "colab": {},
    "colab_type": "code",
    "id": "u5ApQyxPChaN"
   },
   "outputs": [],
   "source": [
    "import numpy as np\n",
    "import pandas as pd\n",
    "from sklearn.metrics.pairwise import cosine_similarity\n",
    "#import lightgbm as lgb"
   ]
  },
  {
   "cell_type": "code",
   "execution_count": 2,
   "metadata": {
    "colab": {},
    "colab_type": "code",
    "id": "Yk8yjE8g7lUH"
   },
   "outputs": [],
   "source": [
    "priors = pd.read_csv('order_products__prior.csv', dtype={\n",
    "            'order_id': np.int32,\n",
    "            'product_id': np.uint16,\n",
    "            'add_to_cart_order': np.int16,\n",
    "            'reordered': np.int8})"
   ]
  },
  {
   "cell_type": "code",
   "execution_count": 3,
   "metadata": {
    "colab": {},
    "colab_type": "code",
    "id": "nn86YdiEDb-r"
   },
   "outputs": [],
   "source": [
    "train = pd.read_csv('order_products__train.csv', dtype={\n",
    "            'order_id': np.int32,\n",
    "            'product_id': np.uint16,\n",
    "            'add_to_cart_order': np.int16,\n",
    "            'reordered': np.int8})"
   ]
  },
  {
   "cell_type": "code",
   "execution_count": 4,
   "metadata": {
    "colab": {},
    "colab_type": "code",
    "id": "XTJkptn5D4-D"
   },
   "outputs": [],
   "source": [
    "orders = pd.read_csv('orders.csv', dtype={\n",
    "        'order_id': np.int32,\n",
    "        'user_id': np.int32,\n",
    "        'eval_set': 'category',\n",
    "        'order_number': np.int16,\n",
    "        'order_dow': np.int8,\n",
    "        'order_hour_of_day': np.int8,\n",
    "        'days_since_prior_order': np.float32})"
   ]
  },
  {
   "cell_type": "code",
   "execution_count": 5,
   "metadata": {
    "colab": {},
    "colab_type": "code",
    "id": "njUhjmg5FE5t"
   },
   "outputs": [],
   "source": [
    "products = pd.read_csv('products.csv', dtype={\n",
    "        'product_id': np.uint16,\n",
    "        'order_id': np.int32,\n",
    "        'aisle_id': np.uint8,\n",
    "        'department_id': np.uint8},\n",
    "        usecols=['product_id', 'aisle_id', 'department_id'])"
   ]
  },
  {
   "cell_type": "code",
   "execution_count": 6,
   "metadata": {
    "colab": {
     "base_uri": "https://localhost:8080/",
     "height": 67
    },
    "colab_type": "code",
    "id": "5QGp6E99FQ1r",
    "outputId": "54db4267-afa0-4d62-f3c2-d6c977300794"
   },
   "outputs": [
    {
     "name": "stdout",
     "output_type": "stream",
     "text": [
      "priors (32434489, 4): order_id, product_id, add_to_cart_order, reordered\n",
      "orders (3421083, 7): order_id, user_id, eval_set, order_number, order_dow, order_hour_of_day, days_since_prior_order\n",
      "train (1384617, 4): order_id, product_id, add_to_cart_order, reordered\n"
     ]
    }
   ],
   "source": [
    "print('priors {}: {}'.format(priors.shape, ', '.join(priors.columns)))\n",
    "print('orders {}: {}'.format(orders.shape, ', '.join(orders.columns)))\n",
    "print('train {}: {}'.format(train.shape, ', '.join(train.columns)))"
   ]
  },
  {
   "cell_type": "code",
   "execution_count": 7,
   "metadata": {
    "colab": {
     "base_uri": "https://localhost:8080/",
     "height": 67
    },
    "colab_type": "code",
    "id": "C08zzVGDe3dI",
    "outputId": "a4b21459-2fab-408b-a96f-1ddb6d9a68d4"
   },
   "outputs": [
    {
     "data": {
      "text/plain": [
       "Index(['order_id', 'user_id', 'eval_set', 'order_number', 'order_dow',\n",
       "       'order_hour_of_day', 'days_since_prior_order'],\n",
       "      dtype='object')"
      ]
     },
     "execution_count": 7,
     "metadata": {},
     "output_type": "execute_result"
    }
   ],
   "source": [
    "orders.columns"
   ]
  },
  {
   "cell_type": "code",
   "execution_count": 8,
   "metadata": {
    "colab": {
     "base_uri": "https://localhost:8080/",
     "height": 34
    },
    "colab_type": "code",
    "id": "ZhZqb7fAfk1R",
    "outputId": "218a1cbd-5af1-43b5-aa5f-541908bc848c"
   },
   "outputs": [
    {
     "data": {
      "text/plain": [
       "array([     1,      2,      3, ..., 206207, 206208, 206209], dtype=int64)"
      ]
     },
     "execution_count": 8,
     "metadata": {},
     "output_type": "execute_result"
    }
   ],
   "source": [
    "orders['user_id'].unique()"
   ]
  },
  {
   "cell_type": "code",
   "execution_count": 9,
   "metadata": {
    "colab": {
     "base_uri": "https://localhost:8080/",
     "height": 84
    },
    "colab_type": "code",
    "id": "IvoZBJEPbAnM",
    "outputId": "843723de-7f42-44c9-b4d4-c6fc69007d42"
   },
   "outputs": [
    {
     "data": {
      "text/plain": [
       "prior    3214874\n",
       "train     131209\n",
       "test       75000\n",
       "Name: eval_set, dtype: int64"
      ]
     },
     "execution_count": 9,
     "metadata": {},
     "output_type": "execute_result"
    }
   ],
   "source": [
    "orders['eval_set'].value_counts()"
   ]
  },
  {
   "cell_type": "code",
   "execution_count": 10,
   "metadata": {
    "colab": {
     "base_uri": "https://localhost:8080/",
     "height": 195
    },
    "colab_type": "code",
    "id": "L3VYdZenqAZo",
    "outputId": "7d67c87d-6335-4313-fb83-b31f41d068d5"
   },
   "outputs": [
    {
     "data": {
      "text/html": [
       "<div>\n",
       "<style scoped>\n",
       "    .dataframe tbody tr th:only-of-type {\n",
       "        vertical-align: middle;\n",
       "    }\n",
       "\n",
       "    .dataframe tbody tr th {\n",
       "        vertical-align: top;\n",
       "    }\n",
       "\n",
       "    .dataframe thead th {\n",
       "        text-align: right;\n",
       "    }\n",
       "</style>\n",
       "<table border=\"1\" class=\"dataframe\">\n",
       "  <thead>\n",
       "    <tr style=\"text-align: right;\">\n",
       "      <th></th>\n",
       "      <th>order_id</th>\n",
       "      <th>user_id</th>\n",
       "      <th>eval_set</th>\n",
       "      <th>order_number</th>\n",
       "      <th>order_dow</th>\n",
       "      <th>order_hour_of_day</th>\n",
       "      <th>days_since_prior_order</th>\n",
       "    </tr>\n",
       "  </thead>\n",
       "  <tbody>\n",
       "    <tr>\n",
       "      <th>0</th>\n",
       "      <td>2539329</td>\n",
       "      <td>1</td>\n",
       "      <td>prior</td>\n",
       "      <td>1</td>\n",
       "      <td>2</td>\n",
       "      <td>8</td>\n",
       "      <td>NaN</td>\n",
       "    </tr>\n",
       "    <tr>\n",
       "      <th>1</th>\n",
       "      <td>2398795</td>\n",
       "      <td>1</td>\n",
       "      <td>prior</td>\n",
       "      <td>2</td>\n",
       "      <td>3</td>\n",
       "      <td>7</td>\n",
       "      <td>15.0</td>\n",
       "    </tr>\n",
       "    <tr>\n",
       "      <th>2</th>\n",
       "      <td>473747</td>\n",
       "      <td>1</td>\n",
       "      <td>prior</td>\n",
       "      <td>3</td>\n",
       "      <td>3</td>\n",
       "      <td>12</td>\n",
       "      <td>21.0</td>\n",
       "    </tr>\n",
       "    <tr>\n",
       "      <th>3</th>\n",
       "      <td>2254736</td>\n",
       "      <td>1</td>\n",
       "      <td>prior</td>\n",
       "      <td>4</td>\n",
       "      <td>4</td>\n",
       "      <td>7</td>\n",
       "      <td>29.0</td>\n",
       "    </tr>\n",
       "    <tr>\n",
       "      <th>4</th>\n",
       "      <td>431534</td>\n",
       "      <td>1</td>\n",
       "      <td>prior</td>\n",
       "      <td>5</td>\n",
       "      <td>4</td>\n",
       "      <td>15</td>\n",
       "      <td>28.0</td>\n",
       "    </tr>\n",
       "  </tbody>\n",
       "</table>\n",
       "</div>"
      ],
      "text/plain": [
       "   order_id  user_id eval_set  order_number  order_dow  order_hour_of_day  \\\n",
       "0   2539329        1    prior             1          2                  8   \n",
       "1   2398795        1    prior             2          3                  7   \n",
       "2    473747        1    prior             3          3                 12   \n",
       "3   2254736        1    prior             4          4                  7   \n",
       "4    431534        1    prior             5          4                 15   \n",
       "\n",
       "   days_since_prior_order  \n",
       "0                     NaN  \n",
       "1                    15.0  \n",
       "2                    21.0  \n",
       "3                    29.0  \n",
       "4                    28.0  "
      ]
     },
     "execution_count": 10,
     "metadata": {},
     "output_type": "execute_result"
    }
   ],
   "source": [
    "orders.head()"
   ]
  },
  {
   "cell_type": "code",
   "execution_count": 11,
   "metadata": {
    "colab": {},
    "colab_type": "code",
    "id": "Vo7NQaIdvomn"
   },
   "outputs": [],
   "source": [
    "train['product_id'] = train['product_id'].astype(str)\n",
    "priors['product_id'] = priors['product_id'].astype(str)"
   ]
  },
  {
   "cell_type": "code",
   "execution_count": 12,
   "metadata": {
    "colab": {},
    "colab_type": "code",
    "id": "tRaxzsw4wEZT"
   },
   "outputs": [],
   "source": [
    "train_products = train.groupby(\"order_id\").apply(lambda order: order['product_id'].tolist())\n",
    "prior_products = priors.groupby(\"order_id\").apply(lambda order: order['product_id'].tolist())"
   ]
  },
  {
   "cell_type": "code",
   "execution_count": 13,
   "metadata": {
    "colab": {},
    "colab_type": "code",
    "id": "8m10eez4Bkal"
   },
   "outputs": [],
   "source": [
    "prods = pd.DataFrame()\n",
    "prods['orders'] = priors.groupby(priors.product_id).size().astype(np.int32)"
   ]
  },
  {
   "cell_type": "code",
   "execution_count": 14,
   "metadata": {
    "colab": {},
    "colab_type": "code",
    "id": "tvG2RNzLB2EQ"
   },
   "outputs": [],
   "source": [
    "prods['reorders'] = priors['reordered'].groupby(priors.product_id).sum().astype(np.float32)\n",
    "prods['reorder_rate'] = (prods.reorders / prods.orders).astype(np.float32)"
   ]
  },
  {
   "cell_type": "code",
   "execution_count": 15,
   "metadata": {
    "colab": {
     "base_uri": "https://localhost:8080/",
     "height": 225
    },
    "colab_type": "code",
    "id": "NLgYNGalBnxp",
    "outputId": "0d21cccc-b6c7-4773-fcbe-3d056d7f3daa"
   },
   "outputs": [
    {
     "data": {
      "text/html": [
       "<div>\n",
       "<style scoped>\n",
       "    .dataframe tbody tr th:only-of-type {\n",
       "        vertical-align: middle;\n",
       "    }\n",
       "\n",
       "    .dataframe tbody tr th {\n",
       "        vertical-align: top;\n",
       "    }\n",
       "\n",
       "    .dataframe thead th {\n",
       "        text-align: right;\n",
       "    }\n",
       "</style>\n",
       "<table border=\"1\" class=\"dataframe\">\n",
       "  <thead>\n",
       "    <tr style=\"text-align: right;\">\n",
       "      <th></th>\n",
       "      <th>orders</th>\n",
       "      <th>reorders</th>\n",
       "      <th>reorder_rate</th>\n",
       "    </tr>\n",
       "    <tr>\n",
       "      <th>product_id</th>\n",
       "      <th></th>\n",
       "      <th></th>\n",
       "      <th></th>\n",
       "    </tr>\n",
       "  </thead>\n",
       "  <tbody>\n",
       "    <tr>\n",
       "      <th>1</th>\n",
       "      <td>1852</td>\n",
       "      <td>1136.0</td>\n",
       "      <td>0.613391</td>\n",
       "    </tr>\n",
       "    <tr>\n",
       "      <th>10</th>\n",
       "      <td>2572</td>\n",
       "      <td>1304.0</td>\n",
       "      <td>0.506998</td>\n",
       "    </tr>\n",
       "    <tr>\n",
       "      <th>100</th>\n",
       "      <td>437</td>\n",
       "      <td>245.0</td>\n",
       "      <td>0.560641</td>\n",
       "    </tr>\n",
       "    <tr>\n",
       "      <th>1000</th>\n",
       "      <td>2610</td>\n",
       "      <td>1065.0</td>\n",
       "      <td>0.408046</td>\n",
       "    </tr>\n",
       "    <tr>\n",
       "      <th>10000</th>\n",
       "      <td>11</td>\n",
       "      <td>4.0</td>\n",
       "      <td>0.363636</td>\n",
       "    </tr>\n",
       "  </tbody>\n",
       "</table>\n",
       "</div>"
      ],
      "text/plain": [
       "            orders  reorders  reorder_rate\n",
       "product_id                                \n",
       "1             1852    1136.0      0.613391\n",
       "10            2572    1304.0      0.506998\n",
       "100            437     245.0      0.560641\n",
       "1000          2610    1065.0      0.408046\n",
       "10000           11       4.0      0.363636"
      ]
     },
     "execution_count": 15,
     "metadata": {},
     "output_type": "execute_result"
    }
   ],
   "source": [
    "prods.head()"
   ]
  },
  {
   "cell_type": "code",
   "execution_count": 16,
   "metadata": {
    "colab": {
     "base_uri": "https://localhost:8080/",
     "height": 34
    },
    "colab_type": "code",
    "id": "2GNCpF_fwVVR",
    "outputId": "82b2c4a4-e5cb-4aeb-9059-56d2c96f619f"
   },
   "outputs": [
    {
     "data": {
      "text/plain": [
       "pandas.core.series.Series"
      ]
     },
     "execution_count": 16,
     "metadata": {},
     "output_type": "execute_result"
    }
   ],
   "source": [
    "type(train_products)"
   ]
  },
  {
   "cell_type": "code",
   "execution_count": 17,
   "metadata": {
    "colab": {},
    "colab_type": "code",
    "id": "dhQGtldncKmA"
   },
   "outputs": [],
   "source": [
    "user_prods = pd.DataFrame()"
   ]
  },
  {
   "cell_type": "code",
   "execution_count": 18,
   "metadata": {
    "colab": {},
    "colab_type": "code",
    "id": "s_JaeG-XrVyk"
   },
   "outputs": [],
   "source": [
    "user_prods['products'] = train_products"
   ]
  },
  {
   "cell_type": "code",
   "execution_count": 19,
   "metadata": {
    "colab": {
     "base_uri": "https://localhost:8080/",
     "height": 50
    },
    "colab_type": "code",
    "id": "O3Ljrxto_RRI",
    "outputId": "5de9a67e-ca8d-418d-a30f-0de67db20915"
   },
   "outputs": [
    {
     "data": {
      "text/plain": [
       "products    object\n",
       "dtype: object"
      ]
     },
     "execution_count": 19,
     "metadata": {},
     "output_type": "execute_result"
    }
   ],
   "source": [
    "user_prods.dtypes"
   ]
  },
  {
   "cell_type": "code",
   "execution_count": 20,
   "metadata": {
    "colab": {
     "base_uri": "https://localhost:8080/",
     "height": 136
    },
    "colab_type": "code",
    "id": "Z4QMxh5VvIQ-",
    "outputId": "c0883834-604a-43e9-ecdc-42132cf36d99"
   },
   "outputs": [
    {
     "data": {
      "text/html": [
       "<div>\n",
       "<style scoped>\n",
       "    .dataframe tbody tr th:only-of-type {\n",
       "        vertical-align: middle;\n",
       "    }\n",
       "\n",
       "    .dataframe tbody tr th {\n",
       "        vertical-align: top;\n",
       "    }\n",
       "\n",
       "    .dataframe thead th {\n",
       "        text-align: right;\n",
       "    }\n",
       "</style>\n",
       "<table border=\"1\" class=\"dataframe\">\n",
       "  <thead>\n",
       "    <tr style=\"text-align: right;\">\n",
       "      <th></th>\n",
       "      <th>products</th>\n",
       "    </tr>\n",
       "    <tr>\n",
       "      <th>order_id</th>\n",
       "      <th></th>\n",
       "    </tr>\n",
       "  </thead>\n",
       "  <tbody>\n",
       "    <tr>\n",
       "      <th>38</th>\n",
       "      <td>[11913, 18159, 4461, 21616, 23622, 32433, 2884...</td>\n",
       "    </tr>\n",
       "    <tr>\n",
       "      <th>96</th>\n",
       "      <td>[20574, 30391, 40706, 25610, 27966, 24489, 39275]</td>\n",
       "    </tr>\n",
       "  </tbody>\n",
       "</table>\n",
       "</div>"
      ],
      "text/plain": [
       "                                                   products\n",
       "order_id                                                   \n",
       "38        [11913, 18159, 4461, 21616, 23622, 32433, 2884...\n",
       "96        [20574, 30391, 40706, 25610, 27966, 24489, 39275]"
      ]
     },
     "execution_count": 20,
     "metadata": {},
     "output_type": "execute_result"
    }
   ],
   "source": [
    "user_prods[2:4]"
   ]
  },
  {
   "cell_type": "code",
   "execution_count": 21,
   "metadata": {
    "colab": {},
    "colab_type": "code",
    "id": "1IT9_vIEGC3o"
   },
   "outputs": [],
   "source": [
    "user_prods['order_id'] = user_prods.index"
   ]
  },
  {
   "cell_type": "code",
   "execution_count": 22,
   "metadata": {
    "colab": {
     "base_uri": "https://localhost:8080/",
     "height": 225
    },
    "colab_type": "code",
    "id": "Uwk_aPCzYh3Z",
    "outputId": "a4a75900-050f-421f-a6eb-6ba4d886c457"
   },
   "outputs": [
    {
     "data": {
      "text/html": [
       "<div>\n",
       "<style scoped>\n",
       "    .dataframe tbody tr th:only-of-type {\n",
       "        vertical-align: middle;\n",
       "    }\n",
       "\n",
       "    .dataframe tbody tr th {\n",
       "        vertical-align: top;\n",
       "    }\n",
       "\n",
       "    .dataframe thead th {\n",
       "        text-align: right;\n",
       "    }\n",
       "</style>\n",
       "<table border=\"1\" class=\"dataframe\">\n",
       "  <thead>\n",
       "    <tr style=\"text-align: right;\">\n",
       "      <th></th>\n",
       "      <th>products</th>\n",
       "      <th>order_id</th>\n",
       "    </tr>\n",
       "    <tr>\n",
       "      <th>order_id</th>\n",
       "      <th></th>\n",
       "      <th></th>\n",
       "    </tr>\n",
       "  </thead>\n",
       "  <tbody>\n",
       "    <tr>\n",
       "      <th>1</th>\n",
       "      <td>[49302, 11109, 10246, 49683, 43633, 13176, 472...</td>\n",
       "      <td>1</td>\n",
       "    </tr>\n",
       "    <tr>\n",
       "      <th>36</th>\n",
       "      <td>[39612, 19660, 49235, 43086, 46620, 34497, 486...</td>\n",
       "      <td>36</td>\n",
       "    </tr>\n",
       "    <tr>\n",
       "      <th>38</th>\n",
       "      <td>[11913, 18159, 4461, 21616, 23622, 32433, 2884...</td>\n",
       "      <td>38</td>\n",
       "    </tr>\n",
       "    <tr>\n",
       "      <th>96</th>\n",
       "      <td>[20574, 30391, 40706, 25610, 27966, 24489, 39275]</td>\n",
       "      <td>96</td>\n",
       "    </tr>\n",
       "    <tr>\n",
       "      <th>98</th>\n",
       "      <td>[8859, 19731, 43654, 13176, 4357, 37664, 34065...</td>\n",
       "      <td>98</td>\n",
       "    </tr>\n",
       "  </tbody>\n",
       "</table>\n",
       "</div>"
      ],
      "text/plain": [
       "                                                   products  order_id\n",
       "order_id                                                             \n",
       "1         [49302, 11109, 10246, 49683, 43633, 13176, 472...         1\n",
       "36        [39612, 19660, 49235, 43086, 46620, 34497, 486...        36\n",
       "38        [11913, 18159, 4461, 21616, 23622, 32433, 2884...        38\n",
       "96        [20574, 30391, 40706, 25610, 27966, 24489, 39275]        96\n",
       "98        [8859, 19731, 43654, 13176, 4357, 37664, 34065...        98"
      ]
     },
     "execution_count": 22,
     "metadata": {},
     "output_type": "execute_result"
    }
   ],
   "source": [
    "user_prods.head()"
   ]
  },
  {
   "cell_type": "code",
   "execution_count": 23,
   "metadata": {
    "colab": {},
    "colab_type": "code",
    "id": "mLm5xK6RZGNV"
   },
   "outputs": [
    {
     "name": "stderr",
     "output_type": "stream",
     "text": [
      "C:\\Users\\Akash\\Anaconda3\\lib\\site-packages\\ipykernel_launcher.py:1: FutureWarning: 'order_id' is both an index level and a column label.\n",
      "Defaulting to column, but this will raise an ambiguity error in a future version\n",
      "  \"\"\"Entry point for launching an IPython kernel.\n"
     ]
    }
   ],
   "source": [
    "train_prods = user_prods.merge(orders, on ='order_id')"
   ]
  },
  {
   "cell_type": "code",
   "execution_count": 24,
   "metadata": {
    "colab": {
     "base_uri": "https://localhost:8080/",
     "height": 34
    },
    "colab_type": "code",
    "id": "oy8XPucRauVT",
    "outputId": "78f9e512-b301-45fc-b815-bf98b6b83b44"
   },
   "outputs": [
    {
     "data": {
      "text/plain": [
       "(131209, 8)"
      ]
     },
     "execution_count": 24,
     "metadata": {},
     "output_type": "execute_result"
    }
   ],
   "source": [
    "train_prods.shape"
   ]
  },
  {
   "cell_type": "code",
   "execution_count": 25,
   "metadata": {
    "colab": {},
    "colab_type": "code",
    "id": "1bKhsxykdpzb"
   },
   "outputs": [
    {
     "name": "stderr",
     "output_type": "stream",
     "text": [
      "C:\\Users\\Akash\\Anaconda3\\lib\\site-packages\\ipykernel_launcher.py:4: FutureWarning: 'order_id' is both an index level and a column label.\n",
      "Defaulting to column, but this will raise an ambiguity error in a future version\n",
      "  after removing the cwd from sys.path.\n"
     ]
    }
   ],
   "source": [
    "user_prods = pd.DataFrame()\n",
    "user_prods['products'] = prior_products\n",
    "user_prods['order_id'] = user_prods.index\n",
    "prior_prods = user_prods.merge(orders, on ='order_id')"
   ]
  },
  {
   "cell_type": "code",
   "execution_count": 26,
   "metadata": {
    "colab": {
     "base_uri": "https://localhost:8080/",
     "height": 34
    },
    "colab_type": "code",
    "id": "G3qkBZVreN-N",
    "outputId": "0a3b8fa5-38cb-4845-d735-f639739e9564"
   },
   "outputs": [
    {
     "data": {
      "text/plain": [
       "(3214874, 8)"
      ]
     },
     "execution_count": 26,
     "metadata": {},
     "output_type": "execute_result"
    }
   ],
   "source": [
    "prior_prods.shape"
   ]
  },
  {
   "cell_type": "code",
   "execution_count": 27,
   "metadata": {
    "colab": {
     "base_uri": "https://localhost:8080/",
     "height": 195
    },
    "colab_type": "code",
    "id": "qqGMwULWeXVd",
    "outputId": "bf060963-39d8-4112-c324-1e632ba05ee0"
   },
   "outputs": [
    {
     "data": {
      "text/html": [
       "<div>\n",
       "<style scoped>\n",
       "    .dataframe tbody tr th:only-of-type {\n",
       "        vertical-align: middle;\n",
       "    }\n",
       "\n",
       "    .dataframe tbody tr th {\n",
       "        vertical-align: top;\n",
       "    }\n",
       "\n",
       "    .dataframe thead th {\n",
       "        text-align: right;\n",
       "    }\n",
       "</style>\n",
       "<table border=\"1\" class=\"dataframe\">\n",
       "  <thead>\n",
       "    <tr style=\"text-align: right;\">\n",
       "      <th></th>\n",
       "      <th>products</th>\n",
       "      <th>order_id</th>\n",
       "      <th>user_id</th>\n",
       "      <th>eval_set</th>\n",
       "      <th>order_number</th>\n",
       "      <th>order_dow</th>\n",
       "      <th>order_hour_of_day</th>\n",
       "      <th>days_since_prior_order</th>\n",
       "    </tr>\n",
       "  </thead>\n",
       "  <tbody>\n",
       "    <tr>\n",
       "      <th>0</th>\n",
       "      <td>[33120, 28985, 9327, 45918, 30035, 17794, 4014...</td>\n",
       "      <td>2</td>\n",
       "      <td>202279</td>\n",
       "      <td>prior</td>\n",
       "      <td>3</td>\n",
       "      <td>5</td>\n",
       "      <td>9</td>\n",
       "      <td>8.0</td>\n",
       "    </tr>\n",
       "    <tr>\n",
       "      <th>1</th>\n",
       "      <td>[33754, 24838, 17704, 21903, 17668, 46667, 174...</td>\n",
       "      <td>3</td>\n",
       "      <td>205970</td>\n",
       "      <td>prior</td>\n",
       "      <td>16</td>\n",
       "      <td>5</td>\n",
       "      <td>17</td>\n",
       "      <td>12.0</td>\n",
       "    </tr>\n",
       "    <tr>\n",
       "      <th>2</th>\n",
       "      <td>[46842, 26434, 39758, 27761, 10054, 21351, 225...</td>\n",
       "      <td>4</td>\n",
       "      <td>178520</td>\n",
       "      <td>prior</td>\n",
       "      <td>36</td>\n",
       "      <td>1</td>\n",
       "      <td>9</td>\n",
       "      <td>7.0</td>\n",
       "    </tr>\n",
       "    <tr>\n",
       "      <th>3</th>\n",
       "      <td>[13176, 15005, 47329, 27966, 23909, 48370, 132...</td>\n",
       "      <td>5</td>\n",
       "      <td>156122</td>\n",
       "      <td>prior</td>\n",
       "      <td>42</td>\n",
       "      <td>6</td>\n",
       "      <td>16</td>\n",
       "      <td>9.0</td>\n",
       "    </tr>\n",
       "    <tr>\n",
       "      <th>4</th>\n",
       "      <td>[40462, 15873, 41897]</td>\n",
       "      <td>6</td>\n",
       "      <td>22352</td>\n",
       "      <td>prior</td>\n",
       "      <td>4</td>\n",
       "      <td>1</td>\n",
       "      <td>12</td>\n",
       "      <td>30.0</td>\n",
       "    </tr>\n",
       "  </tbody>\n",
       "</table>\n",
       "</div>"
      ],
      "text/plain": [
       "                                            products  order_id  user_id  \\\n",
       "0  [33120, 28985, 9327, 45918, 30035, 17794, 4014...         2   202279   \n",
       "1  [33754, 24838, 17704, 21903, 17668, 46667, 174...         3   205970   \n",
       "2  [46842, 26434, 39758, 27761, 10054, 21351, 225...         4   178520   \n",
       "3  [13176, 15005, 47329, 27966, 23909, 48370, 132...         5   156122   \n",
       "4                              [40462, 15873, 41897]         6    22352   \n",
       "\n",
       "  eval_set  order_number  order_dow  order_hour_of_day  days_since_prior_order  \n",
       "0    prior             3          5                  9                     8.0  \n",
       "1    prior            16          5                 17                    12.0  \n",
       "2    prior            36          1                  9                     7.0  \n",
       "3    prior            42          6                 16                     9.0  \n",
       "4    prior             4          1                 12                    30.0  "
      ]
     },
     "execution_count": 27,
     "metadata": {},
     "output_type": "execute_result"
    }
   ],
   "source": [
    "prior_prods.head()"
   ]
  },
  {
   "cell_type": "code",
   "execution_count": 28,
   "metadata": {
    "colab": {
     "base_uri": "https://localhost:8080/",
     "height": 34
    },
    "colab_type": "code",
    "id": "UZQ9IR9_egI7",
    "outputId": "10e038c2-854b-4df1-f9fd-4b2a2209cbf4"
   },
   "outputs": [
    {
     "data": {
      "text/plain": [
       "pandas.core.series.Series"
      ]
     },
     "execution_count": 28,
     "metadata": {},
     "output_type": "execute_result"
    }
   ],
   "source": [
    "type(prior_prods[\"products\"])"
   ]
  },
  {
   "cell_type": "code",
   "execution_count": 29,
   "metadata": {
    "colab": {},
    "colab_type": "code",
    "id": "P9OcK5-rf0Nq"
   },
   "outputs": [],
   "source": [
    "no_of_prods = prior_prods['products'].apply(len)"
   ]
  },
  {
   "cell_type": "code",
   "execution_count": 30,
   "metadata": {
    "colab": {},
    "colab_type": "code",
    "id": "tMrtP9ojgWq0"
   },
   "outputs": [],
   "source": [
    "all_prior_products = prior_prods.groupby(\"user_id\").apply(lambda order: order['products'].tolist())"
   ]
  },
  {
   "cell_type": "code",
   "execution_count": 31,
   "metadata": {
    "colab": {},
    "colab_type": "code",
    "id": "S3uh10POibyU"
   },
   "outputs": [],
   "source": [
    "all_prior_prods = pd.DataFrame()\n",
    "all_prior_prods['products'] = all_prior_products\n",
    "all_prior_prods['user_id'] = all_prior_products.index"
   ]
  },
  {
   "cell_type": "code",
   "execution_count": 32,
   "metadata": {
    "colab": {
     "base_uri": "https://localhost:8080/",
     "height": 225
    },
    "colab_type": "code",
    "id": "lFExJhrMjMcQ",
    "outputId": "27efad42-7dbc-4af4-c748-d8b6cddf6d35"
   },
   "outputs": [
    {
     "data": {
      "text/html": [
       "<div>\n",
       "<style scoped>\n",
       "    .dataframe tbody tr th:only-of-type {\n",
       "        vertical-align: middle;\n",
       "    }\n",
       "\n",
       "    .dataframe tbody tr th {\n",
       "        vertical-align: top;\n",
       "    }\n",
       "\n",
       "    .dataframe thead th {\n",
       "        text-align: right;\n",
       "    }\n",
       "</style>\n",
       "<table border=\"1\" class=\"dataframe\">\n",
       "  <thead>\n",
       "    <tr style=\"text-align: right;\">\n",
       "      <th></th>\n",
       "      <th>products</th>\n",
       "      <th>user_id</th>\n",
       "    </tr>\n",
       "    <tr>\n",
       "      <th>user_id</th>\n",
       "      <th></th>\n",
       "      <th></th>\n",
       "    </tr>\n",
       "  </thead>\n",
       "  <tbody>\n",
       "    <tr>\n",
       "      <th>1</th>\n",
       "      <td>[[196, 12427, 10258, 25133, 10326, 17122, 4178...</td>\n",
       "      <td>1</td>\n",
       "    </tr>\n",
       "    <tr>\n",
       "      <th>2</th>\n",
       "      <td>[[49451, 32792, 32139, 34688, 36735, 37646, 22...</td>\n",
       "      <td>2</td>\n",
       "    </tr>\n",
       "    <tr>\n",
       "      <th>3</th>\n",
       "      <td>[[38596, 21903, 248, 40604, 8021, 17668, 21137...</td>\n",
       "      <td>3</td>\n",
       "    </tr>\n",
       "    <tr>\n",
       "      <th>4</th>\n",
       "      <td>[[22199, 25146], [1200, 17769, 43704, 37646, 1...</td>\n",
       "      <td>4</td>\n",
       "    </tr>\n",
       "    <tr>\n",
       "      <th>5</th>\n",
       "      <td>[[27344, 24535, 43693, 40706, 16168, 21413, 13...</td>\n",
       "      <td>5</td>\n",
       "    </tr>\n",
       "  </tbody>\n",
       "</table>\n",
       "</div>"
      ],
      "text/plain": [
       "                                                  products  user_id\n",
       "user_id                                                            \n",
       "1        [[196, 12427, 10258, 25133, 10326, 17122, 4178...        1\n",
       "2        [[49451, 32792, 32139, 34688, 36735, 37646, 22...        2\n",
       "3        [[38596, 21903, 248, 40604, 8021, 17668, 21137...        3\n",
       "4        [[22199, 25146], [1200, 17769, 43704, 37646, 1...        4\n",
       "5        [[27344, 24535, 43693, 40706, 16168, 21413, 13...        5"
      ]
     },
     "execution_count": 32,
     "metadata": {},
     "output_type": "execute_result"
    }
   ],
   "source": [
    "all_prior_prods.head()"
   ]
  },
  {
   "cell_type": "code",
   "execution_count": 33,
   "metadata": {},
   "outputs": [],
   "source": [
    "max_users = all_prior_prods.shape[0]"
   ]
  },
  {
   "cell_type": "code",
   "execution_count": 34,
   "metadata": {},
   "outputs": [
    {
     "name": "stdout",
     "output_type": "stream",
     "text": [
      "49688 206209\n"
     ]
    }
   ],
   "source": [
    "max_prods = products.shape[0]\n",
    "print(max_prods,max_users)"
   ]
  },
  {
   "cell_type": "code",
   "execution_count": 37,
   "metadata": {},
   "outputs": [],
   "source": [
    "user_prod = np.zeros((1000,max_prods))"
   ]
  },
  {
   "cell_type": "code",
   "execution_count": 49,
   "metadata": {
    "colab": {},
    "colab_type": "code",
    "id": "xw_JeEZn-W9-"
   },
   "outputs": [],
   "source": [
    "p=0\n",
    "for i in range(1000):\n",
    "    x = list(all_prior_prods.iloc[i,0])\n",
    "    x = np.array(x)\n",
    "    for k in range(len(x)):\n",
    "        z = np.array(x[k])\n",
    "        for prod in z:\n",
    "            prod = int(prod)\n",
    "            user_prod[i,prod-1] =  user_prod[i,prod-1]+1  \n",
    "           "
   ]
  },
  {
   "cell_type": "code",
   "execution_count": 50,
   "metadata": {},
   "outputs": [
    {
     "data": {
      "text/plain": [
       "array([[0., 0., 0., ..., 0., 0., 0.],\n",
       "       [0., 0., 0., ..., 0., 0., 0.],\n",
       "       [0., 0., 0., ..., 0., 0., 0.],\n",
       "       ...,\n",
       "       [0., 0., 0., ..., 0., 0., 0.],\n",
       "       [0., 0., 0., ..., 0., 0., 0.],\n",
       "       [0., 0., 0., ..., 0., 0., 0.]])"
      ]
     },
     "execution_count": 50,
     "metadata": {},
     "output_type": "execute_result"
    }
   ],
   "source": [
    "user_prod"
   ]
  },
  {
   "cell_type": "code",
   "execution_count": 57,
   "metadata": {},
   "outputs": [],
   "source": [
    "non_zero = np.count_nonzero(user_prod)"
   ]
  },
  {
   "cell_type": "code",
   "execution_count": 58,
   "metadata": {},
   "outputs": [
    {
     "data": {
      "text/plain": [
       "62102"
      ]
     },
     "execution_count": 58,
     "metadata": {},
     "output_type": "execute_result"
    }
   ],
   "source": [
    "non_zero"
   ]
  },
  {
   "cell_type": "code",
   "execution_count": 59,
   "metadata": {},
   "outputs": [],
   "source": [
    "k = user_prod.shape[0]*user_prod.shape[1]"
   ]
  },
  {
   "cell_type": "code",
   "execution_count": 60,
   "metadata": {},
   "outputs": [
    {
     "data": {
      "text/plain": [
       "49688000"
      ]
     },
     "execution_count": 60,
     "metadata": {},
     "output_type": "execute_result"
    }
   ],
   "source": [
    "k"
   ]
  },
  {
   "cell_type": "code",
   "execution_count": 61,
   "metadata": {},
   "outputs": [],
   "source": [
    "sparsity = 1 - non_zero/k"
   ]
  },
  {
   "cell_type": "code",
   "execution_count": 62,
   "metadata": {},
   "outputs": [
    {
     "data": {
      "text/plain": [
       "0.9987501610046692"
      ]
     },
     "execution_count": 62,
     "metadata": {},
     "output_type": "execute_result"
    }
   ],
   "source": [
    "sparsity"
   ]
  },
  {
   "cell_type": "code",
   "execution_count": 51,
   "metadata": {},
   "outputs": [],
   "source": [
    "Norm_user_prod = np.zeros((1000,max_prods))"
   ]
  },
  {
   "cell_type": "code",
   "execution_count": 52,
   "metadata": {},
   "outputs": [],
   "source": [
    "Norm_user_prod=user_prod/np.sum(user_prod,axis=1).reshape(1000,1)"
   ]
  },
  {
   "cell_type": "code",
   "execution_count": 53,
   "metadata": {},
   "outputs": [
    {
     "data": {
      "text/plain": [
       "1.0"
      ]
     },
     "execution_count": 53,
     "metadata": {},
     "output_type": "execute_result"
    }
   ],
   "source": [
    "Norm_user_prod[0,:].sum()"
   ]
  },
  {
   "cell_type": "code",
   "execution_count": 54,
   "metadata": {},
   "outputs": [
    {
     "name": "stdout",
     "output_type": "stream",
     "text": [
      "[[0.00798146]]\n"
     ]
    }
   ],
   "source": [
    "cos_lib = cosine_similarity(user_prod[0].reshape(1,-1),user_prod[1].reshape(1,-1))\n",
    "print(cos_lib)"
   ]
  },
  {
   "cell_type": "code",
   "execution_count": null,
   "metadata": {},
   "outputs": [],
   "source": [
    "from sklearn.neighbors import LSHForest\n",
    ">>> X_train = [[5, 5, 2], [21, 5, 5], [1, 1, 1], [8, 9, 1], [6, 10, 2]]\n",
    ">>> X_test = [[9, 1, 6], [3, 1, 10], [7, 10, 3]]\n",
    ">>> lshf = LSHForest(random_state=42)\n",
    ">>> lshf.fit(X_train)  # doctest: +NORMALIZE_WHITESPACE\n",
    "LSHForest(min_hash_match=4, n_candidates=50, n_estimators=10,\n",
    "          n_neighbors=5, radius=1.0, radius_cutoff_ratio=0.9,\n",
    "          random_state=42)\n",
    ">>> distances, indices = lshf.kneighbors(X_test, n_neighbors=2)\n",
    ">>> distances                                        # doctest: +ELLIPSIS\n",
    "array([[ 0.069...,  0.149...],\n",
    "       [ 0.229...,  0.481...],\n",
    "       [ 0.004...,  0.014...]])\n",
    ">>> indices\n",
    "array([[1, 2],\n",
    "       [2, 0],\n",
    "       [4, 0]])"
   ]
  },
  {
   "cell_type": "code",
   "execution_count": 55,
   "metadata": {},
   "outputs": [
    {
     "name": "stderr",
     "output_type": "stream",
     "text": [
      "C:\\Users\\Akash\\Anaconda3\\lib\\site-packages\\sklearn\\neighbors\\approximate.py:220: DeprecationWarning: LSHForest has poor performance and has been deprecated in 0.19. It will be removed in version 0.21.\n",
      "  DeprecationWarning)\n"
     ]
    }
   ],
   "source": [
    "from sklearn.neighbors import LSHForest\n",
    "X_train = Norm_user_prod[0:800,:]\n",
    "X_test =  Norm_user_prod[800:1000,:]\n",
    "lshf = LSHForest(random_state=42)\n",
    "lshf.fit(X_train)\n",
    "distances, indices = lshf.kneighbors(X_test, n_neighbors=2)\n"
   ]
  },
  {
   "cell_type": "code",
   "execution_count": 56,
   "metadata": {},
   "outputs": [
    {
     "data": {
      "text/plain": [
       "array([[128, 650],\n",
       "       [322, 503],\n",
       "       [ 27, 125],\n",
       "       [707, 572],\n",
       "       [288, 615],\n",
       "       [320, 312],\n",
       "       [ 72, 450],\n",
       "       [ 18, 706],\n",
       "       [ 63, 128],\n",
       "       [691, 133],\n",
       "       [310, 481],\n",
       "       [321,  84],\n",
       "       [284, 695],\n",
       "       [117, 526],\n",
       "       [277, 101],\n",
       "       [523, 318],\n",
       "       [450,  72],\n",
       "       [450, 508],\n",
       "       [288, 737],\n",
       "       [ 37,  78],\n",
       "       [195, 554],\n",
       "       [ 64, 445],\n",
       "       [653, 368],\n",
       "       [544, 566],\n",
       "       [195, 445],\n",
       "       [423, 469],\n",
       "       [ 83, 284],\n",
       "       [104, 572],\n",
       "       [195, 379],\n",
       "       [799, 400],\n",
       "       [393, 288],\n",
       "       [ 94, 648],\n",
       "       [501, 652],\n",
       "       [153, 728],\n",
       "       [381, 619],\n",
       "       [429, 346],\n",
       "       [456, 284],\n",
       "       [309, 504],\n",
       "       [582, 452],\n",
       "       [650, 178],\n",
       "       [400, 463],\n",
       "       [652, 226],\n",
       "       [134, 728],\n",
       "       [414, 574],\n",
       "       [ 90, 390],\n",
       "       [210, 111],\n",
       "       [699,  78],\n",
       "       [219, 462],\n",
       "       [ 78, 631],\n",
       "       [573, 382],\n",
       "       [705, 201],\n",
       "       [ 72, 101],\n",
       "       [631, 397],\n",
       "       [195,  85],\n",
       "       [284, 402],\n",
       "       [592, 377],\n",
       "       [288,  62],\n",
       "       [568, 373],\n",
       "       [350, 503],\n",
       "       [450, 640],\n",
       "       [505, 714],\n",
       "       [654, 735],\n",
       "       [365, 294],\n",
       "       [320, 769],\n",
       "       [146, 327],\n",
       "       [517, 354],\n",
       "       [433, 345],\n",
       "       [131, 423],\n",
       "       [383, 458],\n",
       "       [109, 407],\n",
       "       [690, 483],\n",
       "       [456, 280],\n",
       "       [ 72, 508],\n",
       "       [101, 402],\n",
       "       [616, 585],\n",
       "       [385, 511],\n",
       "       [473, 101],\n",
       "       [186, 348],\n",
       "       [603, 195],\n",
       "       [ 78, 378],\n",
       "       [771,  58],\n",
       "       [701, 634],\n",
       "       [383, 517],\n",
       "       [359, 426],\n",
       "       [ 66, 445],\n",
       "       [247, 503],\n",
       "       [483,  34],\n",
       "       [705, 528],\n",
       "       [ 72, 566],\n",
       "       [737, 463],\n",
       "       [280, 113],\n",
       "       [503,   2],\n",
       "       [129, 383],\n",
       "       [490, 753],\n",
       "       [ 31, 659],\n",
       "       [400, 284],\n",
       "       [ 72, 463],\n",
       "       [284, 463],\n",
       "       [705, 463],\n",
       "       [705, 310],\n",
       "       [782, 371],\n",
       "       [123, 308],\n",
       "       [397, 299],\n",
       "       [545, 574],\n",
       "       [205,  78],\n",
       "       [280, 354],\n",
       "       [358, 496],\n",
       "       [ 72, 672],\n",
       "       [345, 559],\n",
       "       [  0, 683],\n",
       "       [503, 140],\n",
       "       [454, 464],\n",
       "       [701, 104],\n",
       "       [117,  85],\n",
       "       [195, 397],\n",
       "       [277, 652],\n",
       "       [631, 445],\n",
       "       [131, 294],\n",
       "       [ 72, 463],\n",
       "       [450, 109],\n",
       "       [ 78, 152],\n",
       "       [747, 284],\n",
       "       [ 21, 113],\n",
       "       [715, 436],\n",
       "       [462, 648],\n",
       "       [776, 701],\n",
       "       [195, 744],\n",
       "       [757, 677],\n",
       "       [248, 196],\n",
       "       [511, 224],\n",
       "       [382, 627],\n",
       "       [ 62,  90],\n",
       "       [210, 277],\n",
       "       [593, 431],\n",
       "       [117, 753],\n",
       "       [368, 137],\n",
       "       [797, 452],\n",
       "       [458,  91],\n",
       "       [423, 588],\n",
       "       [ 91, 259],\n",
       "       [645, 423],\n",
       "       [279, 615],\n",
       "       [272, 237],\n",
       "       [791, 284],\n",
       "       [288, 437],\n",
       "       [210, 508],\n",
       "       [310, 195],\n",
       "       [502, 576],\n",
       "       [344, 368],\n",
       "       [383,  51],\n",
       "       [ 66, 792],\n",
       "       [238, 385],\n",
       "       [248, 184],\n",
       "       [175, 625],\n",
       "       [492, 271],\n",
       "       [456, 625],\n",
       "       [198, 320],\n",
       "       [263, 172],\n",
       "       [650, 502],\n",
       "       [193, 277],\n",
       "       [449, 279],\n",
       "       [310, 447],\n",
       "       [742, 470],\n",
       "       [219, 744],\n",
       "       [ 42, 370],\n",
       "       [563,  34],\n",
       "       [733, 400],\n",
       "       [450,  72],\n",
       "       [495, 195],\n",
       "       [195, 205],\n",
       "       [788, 131],\n",
       "       [450,  72],\n",
       "       [113, 380],\n",
       "       [345, 164],\n",
       "       [705, 234],\n",
       "       [701, 776],\n",
       "       [771, 776],\n",
       "       [548, 648],\n",
       "       [317, 577],\n",
       "       [566, 640],\n",
       "       [763,  72],\n",
       "       [402, 737],\n",
       "       [125, 699],\n",
       "       [110, 322],\n",
       "       [545, 268],\n",
       "       [  1, 235],\n",
       "       [214, 650],\n",
       "       [239, 282],\n",
       "       [737,  72],\n",
       "       [328,  55],\n",
       "       [ 66, 377],\n",
       "       [792,  66],\n",
       "       [198, 687],\n",
       "       [249, 352],\n",
       "       [452,  42],\n",
       "       [383, 441],\n",
       "       [400, 566],\n",
       "       [495, 379],\n",
       "       [321, 219],\n",
       "       [353, 432]], dtype=int64)"
      ]
     },
     "execution_count": 56,
     "metadata": {},
     "output_type": "execute_result"
    }
   ],
   "source": [
    "indices"
   ]
  }
 ],
 "metadata": {
  "colab": {
   "name": "Untitled1.ipynb",
   "provenance": [],
   "version": "0.3.2"
  },
  "kernelspec": {
   "display_name": "Python 3",
   "language": "python",
   "name": "python3"
  },
  "language_info": {
   "codemirror_mode": {
    "name": "ipython",
    "version": 3
   },
   "file_extension": ".py",
   "mimetype": "text/x-python",
   "name": "python",
   "nbconvert_exporter": "python",
   "pygments_lexer": "ipython3",
   "version": "3.6.5"
  }
 },
 "nbformat": 4,
 "nbformat_minor": 1
}
